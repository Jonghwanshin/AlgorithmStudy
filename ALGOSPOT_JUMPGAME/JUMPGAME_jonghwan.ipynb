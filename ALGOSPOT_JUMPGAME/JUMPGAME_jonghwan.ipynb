{
 "cells": [
  {
   "cell_type": "markdown",
   "metadata": {},
   "source": [
    "# 외발뛰기(문제 ID: JUMPGAME, 난이도: 하)\n",
    "\n",
    "환경\n",
    "- nxn 크기의 격자에 1부터 9까지의 정수를 쓴 게임판\n",
    "\n",
    "동작\n",
    "- 왼쪽 위 칸에서 시작해서 게임판의 맨 오른쪽 아래 칸에 도착\n",
    "- 각 칸에 적혀있는 숫자 만큼 아래쪽이나 오른쪽으로 이동 가능\n",
    "- 시작점에서 끝점으로 도달하는 방법이 존재하는지 확인\n",
    "\n",
    "제약조건\n",
    "- 게임판 밖으로 벗어나면 안됨\n",
    "- \n"
   ]
  },
  {
   "cell_type": "markdown",
   "metadata": {},
   "source": [
    "## Test Case"
   ]
  },
  {
   "cell_type": "code",
   "execution_count": 2,
   "metadata": {
    "collapsed": true
   },
   "outputs": [],
   "source": [
    "tc_C = [2]\n",
    "tc_n = [7,7]\n",
    "tc_board = [[\n",
    "                [2,5,1,6,1,4,1],[6,1,1,2,2,9,3],\n",
    "                [7,2,3,2,1,3,1],[1,1,3,1,7,1,2],\n",
    "                [4,1,2,3,4,1,2],[3,3,1,2,3,4,1],\n",
    "                [1,5,2,9,4,7,0]\n",
    "            ],\n",
    "            [\n",
    "                [2,5,1,6,1,4,1],[6,1,1,2,2,9,3],\n",
    "                [7,2,3,2,1,3,1],[1,1,3,1,7,1,2],\n",
    "                [4,1,2,3,4,1,3],[3,3,1,2,3,4,1],\n",
    "                [1,5,2,9,4,7,0]\n",
    "            ]]"
   ]
  },
  {
   "cell_type": "markdown",
   "metadata": {},
   "source": [
    "## 재귀 호출에서 시작하기\n",
    "재귀적으로 해결하는 완전 탐색 알고리즘을 이용한다."
   ]
  },
  {
   "cell_type": "code",
   "execution_count": 15,
   "metadata": {},
   "outputs": [],
   "source": [
    "def find(board, n, y,x):\n",
    "    if(y>=n or x>=n):\n",
    "        return False\n",
    "    if(y == n-1 and x == n-1):\n",
    "        return True\n",
    "    jumpSize = board[y][x];\n",
    "    return find(board, n, y+jumpSize,x) or find(board, n, y,x+jumpSize);"
   ]
  },
  {
   "cell_type": "code",
   "execution_count": 16,
   "metadata": {
    "collapsed": true
   },
   "outputs": [],
   "source": [
    "import time\n",
    "\n",
    "def oneFootJump(tcNum,n,board):\n",
    "    start_time = time.time()\n",
    "    for i in range(tcNum[0]):\n",
    "        new_n = n[i]\n",
    "        if(find(board[i],new_n,0,0)):\n",
    "            print(\"YES\")\n",
    "        else:\n",
    "            print(\"NO\")\n",
    "    end_time = time.time() - start_time\n",
    "    print(end_time)"
   ]
  },
  {
   "cell_type": "code",
   "execution_count": 17,
   "metadata": {
    "scrolled": true
   },
   "outputs": [
    {
     "name": "stdout",
     "output_type": "stream",
     "text": [
      "YES\n",
      "NO\n",
      "0.0007071495056152344\n"
     ]
    }
   ],
   "source": [
    "oneFootJump(tc_C,tc_n,tc_board)"
   ]
  },
  {
   "cell_type": "markdown",
   "metadata": {},
   "source": [
    "## 동적 계획법을 이용하여 풀기\n",
    "동적 계획법을 이용하여 푼다."
   ]
  },
  {
   "cell_type": "code",
   "execution_count": 40,
   "metadata": {},
   "outputs": [],
   "source": [
    "def find2(cache, board, n, y,x):\n",
    "    if(y>=n or x>=n):\n",
    "        return False\n",
    "    if(y == n-1 and x == n-1):\n",
    "        return True\n",
    "    if(cache[y][x] != -1):\n",
    "        return cache[y][x]\n",
    "    jumpSize = board[y][x]\n",
    "    cache[y][x] = find2(cache, board, n, y+jumpSize, x) or find2(cache, board, n, y, x+jumpSize)\n",
    "    return cache[y][x]"
   ]
  },
  {
   "cell_type": "code",
   "execution_count": 41,
   "metadata": {},
   "outputs": [
    {
     "name": "stdout",
     "output_type": "stream",
     "text": [
      "YES\n",
      "NO\n",
      "0.0006601810455322266\n"
     ]
    }
   ],
   "source": [
    "import time\n",
    "\n",
    "def oneFootJump2(tcNum,n,board):\n",
    "    start_time = time.time()\n",
    "    for i in range(tcNum[0]):\n",
    "        new_n = n[i]\n",
    "        cache = [[-1 for x in range(new_n)] for y in range(new_n)]\n",
    "        if(find2(cache,board[i],new_n,0,0)):\n",
    "            print(\"YES\")\n",
    "        else:\n",
    "            print(\"NO\")\n",
    "    end_time = time.time() - start_time\n",
    "    print(end_time)\n",
    "\n",
    "oneFootJump2(tc_C,tc_n,tc_board)"
   ]
  },
  {
   "cell_type": "markdown",
   "metadata": {},
   "source": [
    "## 최종 답안"
   ]
  },
  {
   "cell_type": "code",
   "execution_count": 38,
   "metadata": {},
   "outputs": [
    {
     "ename": "SyntaxError",
     "evalue": "can't assign to operator (<ipython-input-38-52f51ed0542f>, line 9)",
     "output_type": "error",
     "traceback": [
      "\u001b[0;36m  File \u001b[0;32m\"<ipython-input-38-52f51ed0542f>\"\u001b[0;36m, line \u001b[0;32m9\u001b[0m\n\u001b[0;31m    int& jumpSize = board[y][x]\u001b[0m\n\u001b[0m    ^\u001b[0m\n\u001b[0;31mSyntaxError\u001b[0m\u001b[0;31m:\u001b[0m can't assign to operator\n"
     ]
    }
   ],
   "source": [
    "def find2(cache, board, n, y,x):\n",
    "    if(y>=n or x>=n):\n",
    "        return False\n",
    "    if(y == n-1 and x == n-1):\n",
    "        return True\n",
    "    if(cache[y][x] != -1):\n",
    "        return cache[y][x]\n",
    "    jumpSize = board[y][x]\n",
    "    cache[y][x] = find2(cache, board, n, y+jumpSize, x) or find2(cache, board, n, y, x+jumpSize)\n",
    "    return cache[y][x]\n",
    "\n",
    "def oneFootJump3():\n",
    "    tcNum = int(input())\n",
    "    for i in range(tcNum):\n",
    "        new_n = int(input())\n",
    "        board = [[int(x) for x in input().split(' ')] for y in range(new_n)]\n",
    "        cache = [[-1 for x in range(new_n)] for y in range(new_n)]\n",
    "        if(find2(cache,board,new_n,0,0)):\n",
    "            print(\"YES\")\n",
    "        else:\n",
    "            print(\"NO\")\n",
    "            \n",
    "oneFootJump3()"
   ]
  }
 ],
 "metadata": {
  "kernelspec": {
   "display_name": "Python 3",
   "language": "python",
   "name": "python3"
  },
  "language_info": {
   "codemirror_mode": {
    "name": "ipython",
    "version": 3
   },
   "file_extension": ".py",
   "mimetype": "text/x-python",
   "name": "python",
   "nbconvert_exporter": "python",
   "pygments_lexer": "ipython3",
   "version": "3.5.2"
  }
 },
 "nbformat": 4,
 "nbformat_minor": 2
}
