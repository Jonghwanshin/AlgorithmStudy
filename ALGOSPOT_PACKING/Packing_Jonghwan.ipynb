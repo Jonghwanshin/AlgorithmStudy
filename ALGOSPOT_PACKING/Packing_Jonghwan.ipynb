{
 "cells": [
  {
   "cell_type": "markdown",
   "metadata": {},
   "source": [
    "# 여행 짐 싸기\n",
    "\n",
    "가방에 들어갈 물건을 정하는 문제\n",
    "각 물건은 부피와 절박도가 있음\n",
    "각 물건 부피의 합은 캐리어 용량 W의 부피의 합보다 작아야 하고 절박도는 Maximize되어야 함"
   ]
  },
  {
   "cell_type": "markdown",
   "metadata": {
    "collapsed": true
   },
   "source": [
    "물건 t = (v,w) v,w 두 속성을 지니고 있음\n",
    "최대 절박도의 정의 V(T,w_max) \n",
    "- 물건 들의 집합 T 중에서 w_max를 넘지 않고\n",
    "- 얻을 수 있는 최대 절박도\n",
    "V(T,w_max) = v + V(T',w_max-v)"
   ]
  },
  {
   "cell_type": "code",
   "execution_count": null,
   "metadata": {},
   "outputs": [],
   "source": [
    "\n",
    "len(cache)"
   ]
  },
  {
   "cell_type": "code",
   "execution_count": 15,
   "metadata": {
    "collapsed": true
   },
   "outputs": [],
   "source": [
    "tcNum = [2]\n",
    "tcThingsNum = [6, 6]\n",
    "tcWeight = [10, 17]\n",
    "tcThings = [['laptop 4 7',  'camera 2 10', 'xbox 6 6',\n",
    "           'grinder 4 7', 'dumbell 2 5', 'encyclopedia 10 4'],\n",
    "           ['laptop 4 7', 'camera 2 10', 'xbox 6 6',\n",
    "           'grinder 4 7','dumbell 2 5','encyclopedia 10 4']]"
   ]
  },
  {
   "cell_type": "code",
   "execution_count": 13,
   "metadata": {},
   "outputs": [],
   "source": [
    "def getMaxVal(tcNums, tcThingNum, tcWeight, tcThings):\n",
    "    tcNum = tcNums[0]\n",
    "    for tcidx in range(tcNum):\n",
    "        cache = [[int(0) for x in range(101)] for y in range(1001)]\n",
    "        things = []\n",
    "        thingsStack = set()\n",
    "        thingsToRemove = set()\n",
    "        thingsNum = tcThingsNum[tcidx]\n",
    "        carrierWeight = tcWeight[tcidx]\n",
    "        #print(thingsNum, carrierWeight)\n",
    "        for idx, thing in enumerate(tcThings[tcidx]):\n",
    "            inputs = [x for x in thing.strip().split()]\n",
    "            things.append([str(inputs[0]),int(inputs[1]),int(inputs[2])])\n",
    "        things = sorted(things, key=lambda x: x[2], reverse = True)\n",
    "        for idxweight in range(1,carrierWeight+1):\n",
    "            for idxthings, thing in enumerate(things):\n",
    "                if(idxweight == 0):\n",
    "                    cache[idxweight][idxthings+1]=0\n",
    "                elif(idxweight > carrierWeight):\n",
    "                    cache[idxweight][idxthings+1] = cache[idxweight][idxthings]                   \n",
    "                elif(idxweight < thing[1]):\n",
    "                    cache[idxweight][idxthings+1] = cache[idxweight][idxthings]\n",
    "                else:\n",
    "                    if(cache[idxweight][idxthings] < \\\n",
    "                       thing[2] + cache[idxweight-thing[1]][idxthings]):\n",
    "                            cache[idxweight][idxthings+1] = thing[2] + cache[idxweight-thing[1]][idxthings]\n",
    "                    else:\n",
    "                        cache[idxweight][idxthings+1] = cache[idxweight][idxthings]\n",
    "        idxthings = 0\n",
    "        while(idxthings <  thingsNum):\n",
    "            if(cache[carrierWeight][idxthings] != cache[carrierWeight][idxthings+1]):\n",
    "                thingsStack.add(things[idxthings][0])\n",
    "            idxthings = idxthings + 1\n",
    "        print(cache[carrierWeight][idxthings], len(thingsStack))\n",
    "        for x in thingsStack:\n",
    "            print(x)"
   ]
  },
  {
   "cell_type": "code",
   "execution_count": 16,
   "metadata": {},
   "outputs": [
    {
     "name": "stdout",
     "output_type": "stream",
     "text": [
      "24 3\n",
      "laptop\n",
      "camera\n",
      "grinder\n",
      "30 4\n",
      "laptop\n",
      "xbox\n",
      "camera\n",
      "grinder\n"
     ]
    }
   ],
   "source": [
    "getMaxVal(tcNum, tcThingsNum, tcWeight, tcThings)"
   ]
  },
  {
   "cell_type": "code",
   "execution_count": 11,
   "metadata": {},
   "outputs": [
    {
     "name": "stdout",
     "output_type": "stream",
     "text": [
      "2\n",
      "6 10\n",
      "laptop 4 7\n",
      "camera 2 10\n",
      "xbox 6 6\n",
      "grinder 4 7\n",
      "dumbell 2 5\n",
      "encyclopedia 10 4\n",
      "24 3\n",
      "laptop\n",
      "camera\n",
      "grinder\n",
      "6 17\n",
      "laptop 4 7\n",
      "camera 2 10\n",
      "xbox 6 6\n",
      "grinder 4 7\n",
      "dumbell 2 5\n",
      "encyclopedia 10 4\n",
      "30 4\n",
      "laptop\n",
      "xbox\n",
      "camera\n",
      "grinder\n"
     ]
    }
   ],
   "source": [
    "import copy\n",
    "cache_init = [[int(0) for x in range(101)] for y in range(1001)]\n",
    "tcNum = int(input().strip())\n",
    "for tcidx in range(tcNum):\n",
    "    cache = copy.deepcopy(cache_init)\n",
    "    things = []\n",
    "    thingsStack = set() \n",
    "    thingsNum, carrierWeight = (int(x) for x in input().strip().split())\n",
    "    #print(thingsNum, carrierWeight)\n",
    "    for idx  in range(thingsNum):\n",
    "        inputs = [x for x in input().strip().split()]\n",
    "        things.append([str(inputs[0]),int(inputs[1]),int(inputs[2])])\n",
    "    #things = sorted(things, key=lambda x: x[2], reverse = True)\n",
    "    for idxweight in range(1,carrierWeight+1):\n",
    "        for idxthings, thing in enumerate(things):\n",
    "            if(idxweight == 0):\n",
    "                cache[idxweight][idxthings+1]=0            \n",
    "            elif(idxweight < thing[1]):\n",
    "                cache[idxweight][idxthings+1] = cache[idxweight][idxthings]\n",
    "            else:\n",
    "                if(cache[idxweight][idxthings] < \\\n",
    "                   thing[2] + cache[idxweight-thing[1]][idxthings]):\n",
    "                        cache[idxweight][idxthings+1] = thing[2] + cache[idxweight-thing[1]][idxthings]\n",
    "                else:\n",
    "                    cache[idxweight][idxthings+1] = cache[idxweight][idxthings]\n",
    "            if(idxweight == carrierWeight):\n",
    "                if(cache[carrierWeight][idxthings+1] != cache[carrierWeight][idxthings]):\n",
    "                    thingsStack.add(thing[0])\n",
    "    print(cache[carrierWeight][idxthings], len(thingsStack))\n",
    "    for x in thingsStack:\n",
    "        print(x)"
   ]
  },
  {
   "cell_type": "code",
   "execution_count": 17,
   "metadata": {},
   "outputs": [
    {
     "name": "stdout",
     "output_type": "stream",
     "text": [
      "2\n",
      "6 10\n",
      "laptop 4 7\n",
      "camera 2 10\n",
      "xbox 6 6\n",
      "grinder 4 7\n",
      "dumbell 2 5\n",
      "encyclopedia 10 4\n",
      "24 3\n",
      "laptop\n",
      "camera\n",
      "grinder\n"
     ]
    },
    {
     "ename": "KeyboardInterrupt",
     "evalue": "",
     "output_type": "error",
     "traceback": [
      "\u001b[0;31m---------------------------------------------------------------------------\u001b[0m",
      "\u001b[0;31mKeyboardInterrupt\u001b[0m                         Traceback (most recent call last)",
      "\u001b[0;32m/usr/local/lib/python3.5/dist-packages/ipykernel/kernelbase.py\u001b[0m in \u001b[0;36m_input_request\u001b[0;34m(self, prompt, ident, parent, password)\u001b[0m\n\u001b[1;32m    729\u001b[0m             \u001b[0;32mtry\u001b[0m\u001b[0;34m:\u001b[0m\u001b[0;34m\u001b[0m\u001b[0m\n\u001b[0;32m--> 730\u001b[0;31m                 \u001b[0mident\u001b[0m\u001b[0;34m,\u001b[0m \u001b[0mreply\u001b[0m \u001b[0;34m=\u001b[0m \u001b[0mself\u001b[0m\u001b[0;34m.\u001b[0m\u001b[0msession\u001b[0m\u001b[0;34m.\u001b[0m\u001b[0mrecv\u001b[0m\u001b[0;34m(\u001b[0m\u001b[0mself\u001b[0m\u001b[0;34m.\u001b[0m\u001b[0mstdin_socket\u001b[0m\u001b[0;34m,\u001b[0m \u001b[0;36m0\u001b[0m\u001b[0;34m)\u001b[0m\u001b[0;34m\u001b[0m\u001b[0m\n\u001b[0m\u001b[1;32m    731\u001b[0m             \u001b[0;32mexcept\u001b[0m \u001b[0mException\u001b[0m\u001b[0;34m:\u001b[0m\u001b[0;34m\u001b[0m\u001b[0m\n",
      "\u001b[0;32m/usr/local/lib/python3.5/dist-packages/jupyter_client/session.py\u001b[0m in \u001b[0;36mrecv\u001b[0;34m(self, socket, mode, content, copy)\u001b[0m\n\u001b[1;32m    795\u001b[0m         \u001b[0;32mtry\u001b[0m\u001b[0;34m:\u001b[0m\u001b[0;34m\u001b[0m\u001b[0m\n\u001b[0;32m--> 796\u001b[0;31m             \u001b[0mmsg_list\u001b[0m \u001b[0;34m=\u001b[0m \u001b[0msocket\u001b[0m\u001b[0;34m.\u001b[0m\u001b[0mrecv_multipart\u001b[0m\u001b[0;34m(\u001b[0m\u001b[0mmode\u001b[0m\u001b[0;34m,\u001b[0m \u001b[0mcopy\u001b[0m\u001b[0;34m=\u001b[0m\u001b[0mcopy\u001b[0m\u001b[0;34m)\u001b[0m\u001b[0;34m\u001b[0m\u001b[0m\n\u001b[0m\u001b[1;32m    797\u001b[0m         \u001b[0;32mexcept\u001b[0m \u001b[0mzmq\u001b[0m\u001b[0;34m.\u001b[0m\u001b[0mZMQError\u001b[0m \u001b[0;32mas\u001b[0m \u001b[0me\u001b[0m\u001b[0;34m:\u001b[0m\u001b[0;34m\u001b[0m\u001b[0m\n",
      "\u001b[0;32m/usr/local/lib/python3.5/dist-packages/zmq/sugar/socket.py\u001b[0m in \u001b[0;36mrecv_multipart\u001b[0;34m(self, flags, copy, track)\u001b[0m\n\u001b[1;32m    394\u001b[0m         \"\"\"\n\u001b[0;32m--> 395\u001b[0;31m         \u001b[0mparts\u001b[0m \u001b[0;34m=\u001b[0m \u001b[0;34m[\u001b[0m\u001b[0mself\u001b[0m\u001b[0;34m.\u001b[0m\u001b[0mrecv\u001b[0m\u001b[0;34m(\u001b[0m\u001b[0mflags\u001b[0m\u001b[0;34m,\u001b[0m \u001b[0mcopy\u001b[0m\u001b[0;34m=\u001b[0m\u001b[0mcopy\u001b[0m\u001b[0;34m,\u001b[0m \u001b[0mtrack\u001b[0m\u001b[0;34m=\u001b[0m\u001b[0mtrack\u001b[0m\u001b[0;34m)\u001b[0m\u001b[0;34m]\u001b[0m\u001b[0;34m\u001b[0m\u001b[0m\n\u001b[0m\u001b[1;32m    396\u001b[0m         \u001b[0;31m# have first part already, only loop while more to receive\u001b[0m\u001b[0;34m\u001b[0m\u001b[0;34m\u001b[0m\u001b[0m\n",
      "\u001b[0;32mzmq/backend/cython/socket.pyx\u001b[0m in \u001b[0;36mzmq.backend.cython.socket.Socket.recv (zmq/backend/cython/socket.c:7683)\u001b[0;34m()\u001b[0m\n",
      "\u001b[0;32mzmq/backend/cython/socket.pyx\u001b[0m in \u001b[0;36mzmq.backend.cython.socket.Socket.recv (zmq/backend/cython/socket.c:7460)\u001b[0;34m()\u001b[0m\n",
      "\u001b[0;32mzmq/backend/cython/socket.pyx\u001b[0m in \u001b[0;36mzmq.backend.cython.socket._recv_copy (zmq/backend/cython/socket.c:2344)\u001b[0;34m()\u001b[0m\n",
      "\u001b[0;32m/usr/local/lib/python3.5/dist-packages/zmq/backend/cython/checkrc.pxd\u001b[0m in \u001b[0;36mzmq.backend.cython.checkrc._check_rc (zmq/backend/cython/socket.c:9621)\u001b[0;34m()\u001b[0m\n",
      "\u001b[0;31mKeyboardInterrupt\u001b[0m: ",
      "\nDuring handling of the above exception, another exception occurred:\n",
      "\u001b[0;31mKeyboardInterrupt\u001b[0m                         Traceback (most recent call last)",
      "\u001b[0;32m<ipython-input-17-e16ec1c146a5>\u001b[0m in \u001b[0;36m<module>\u001b[0;34m()\u001b[0m\n\u001b[1;32m      6\u001b[0m     \u001b[0mthings\u001b[0m \u001b[0;34m=\u001b[0m \u001b[0;34m[\u001b[0m\u001b[0;34m]\u001b[0m\u001b[0;34m\u001b[0m\u001b[0m\n\u001b[1;32m      7\u001b[0m     \u001b[0mthingsStack\u001b[0m \u001b[0;34m=\u001b[0m \u001b[0mset\u001b[0m\u001b[0;34m(\u001b[0m\u001b[0;34m)\u001b[0m\u001b[0;34m\u001b[0m\u001b[0m\n\u001b[0;32m----> 8\u001b[0;31m     \u001b[0mthingsNum\u001b[0m\u001b[0;34m,\u001b[0m \u001b[0mcarrierWeight\u001b[0m \u001b[0;34m=\u001b[0m \u001b[0;34m(\u001b[0m\u001b[0mint\u001b[0m\u001b[0;34m(\u001b[0m\u001b[0mx\u001b[0m\u001b[0;34m)\u001b[0m \u001b[0;32mfor\u001b[0m \u001b[0mx\u001b[0m \u001b[0;32min\u001b[0m \u001b[0minput\u001b[0m\u001b[0;34m(\u001b[0m\u001b[0;34m)\u001b[0m\u001b[0;34m.\u001b[0m\u001b[0mstrip\u001b[0m\u001b[0;34m(\u001b[0m\u001b[0;34m)\u001b[0m\u001b[0;34m.\u001b[0m\u001b[0msplit\u001b[0m\u001b[0;34m(\u001b[0m\u001b[0;34m)\u001b[0m\u001b[0;34m)\u001b[0m\u001b[0;34m\u001b[0m\u001b[0m\n\u001b[0m\u001b[1;32m      9\u001b[0m     \u001b[0;31m#print(thingsNum, carrierWeight)\u001b[0m\u001b[0;34m\u001b[0m\u001b[0;34m\u001b[0m\u001b[0m\n\u001b[1;32m     10\u001b[0m     \u001b[0;32mfor\u001b[0m \u001b[0midx\u001b[0m  \u001b[0;32min\u001b[0m \u001b[0mrange\u001b[0m\u001b[0;34m(\u001b[0m\u001b[0mthingsNum\u001b[0m\u001b[0;34m)\u001b[0m\u001b[0;34m:\u001b[0m\u001b[0;34m\u001b[0m\u001b[0m\n",
      "\u001b[0;32m/usr/local/lib/python3.5/dist-packages/ipykernel/kernelbase.py\u001b[0m in \u001b[0;36mraw_input\u001b[0;34m(self, prompt)\u001b[0m\n\u001b[1;32m    703\u001b[0m             \u001b[0mself\u001b[0m\u001b[0;34m.\u001b[0m\u001b[0m_parent_ident\u001b[0m\u001b[0;34m,\u001b[0m\u001b[0;34m\u001b[0m\u001b[0m\n\u001b[1;32m    704\u001b[0m             \u001b[0mself\u001b[0m\u001b[0;34m.\u001b[0m\u001b[0m_parent_header\u001b[0m\u001b[0;34m,\u001b[0m\u001b[0;34m\u001b[0m\u001b[0m\n\u001b[0;32m--> 705\u001b[0;31m             \u001b[0mpassword\u001b[0m\u001b[0;34m=\u001b[0m\u001b[0;32mFalse\u001b[0m\u001b[0;34m,\u001b[0m\u001b[0;34m\u001b[0m\u001b[0m\n\u001b[0m\u001b[1;32m    706\u001b[0m         )\n\u001b[1;32m    707\u001b[0m \u001b[0;34m\u001b[0m\u001b[0m\n",
      "\u001b[0;32m/usr/local/lib/python3.5/dist-packages/ipykernel/kernelbase.py\u001b[0m in \u001b[0;36m_input_request\u001b[0;34m(self, prompt, ident, parent, password)\u001b[0m\n\u001b[1;32m    733\u001b[0m             \u001b[0;32mexcept\u001b[0m \u001b[0mKeyboardInterrupt\u001b[0m\u001b[0;34m:\u001b[0m\u001b[0;34m\u001b[0m\u001b[0m\n\u001b[1;32m    734\u001b[0m                 \u001b[0;31m# re-raise KeyboardInterrupt, to truncate traceback\u001b[0m\u001b[0;34m\u001b[0m\u001b[0;34m\u001b[0m\u001b[0m\n\u001b[0;32m--> 735\u001b[0;31m                 \u001b[0;32mraise\u001b[0m \u001b[0mKeyboardInterrupt\u001b[0m\u001b[0;34m\u001b[0m\u001b[0m\n\u001b[0m\u001b[1;32m    736\u001b[0m             \u001b[0;32melse\u001b[0m\u001b[0;34m:\u001b[0m\u001b[0;34m\u001b[0m\u001b[0m\n\u001b[1;32m    737\u001b[0m                 \u001b[0;32mbreak\u001b[0m\u001b[0;34m\u001b[0m\u001b[0m\n",
      "\u001b[0;31mKeyboardInterrupt\u001b[0m: "
     ]
    }
   ],
   "source": [
    "import copy\n",
    "cache_init = [[int(0) for x in range(101)] for y in range(1001)]\n",
    "tcNum = int(input().strip())\n",
    "for tcidx in range(tcNum):\n",
    "    cache = copy.deepcopy(cache_init)\n",
    "    things = []\n",
    "    thingsStack = set() \n",
    "    thingsNum, carrierWeight = (int(x) for x in input().strip().split())\n",
    "    #print(thingsNum, carrierWeight)\n",
    "    for idx  in range(thingsNum):\n",
    "        inputs = [x for x in input().strip().split()]\n",
    "        things.append([str(inputs[0]),int(inputs[1]),int(inputs[2])])\n",
    "    things = sorted(things, key=lambda x: x[2], reverse = True)\n",
    "    for idxthings, thing in enumerate(things):\n",
    "        for idxweight in range(1,carrierWeight+1):\n",
    "            if(idxweight == 0):\n",
    "                cache[idxweight][idxthings+1]=0            \n",
    "            elif(idxweight < thing[1]):\n",
    "                cache[idxweight][idxthings+1] = cache[idxweight][idxthings]\n",
    "            else:\n",
    "                if(cache[idxweight][idxthings] < \\\n",
    "                   thing[2] + cache[idxweight-thing[1]][idxthings]):\n",
    "                        cache[idxweight][idxthings+1] = thing[2] + cache[idxweight-thing[1]][idxthings]\n",
    "                else:\n",
    "                    cache[idxweight][idxthings+1] = cache[idxweight][idxthings]\n",
    "            if(idxweight == carrierWeight):\n",
    "                if(cache[carrierWeight][idxthings+1] != cache[carrierWeight][idxthings]):\n",
    "                    thingsStack.add(thing[0])\n",
    "    print(cache[carrierWeight][idxthings], len(thingsStack))\n",
    "    for x in thingsStack:\n",
    "        print(x)"
   ]
  },
  {
   "cell_type": "code",
   "execution_count": null,
   "metadata": {
    "collapsed": true
   },
   "outputs": [],
   "source": []
  }
 ],
 "metadata": {
  "kernelspec": {
   "display_name": "Python 3",
   "language": "python",
   "name": "python3"
  },
  "language_info": {
   "codemirror_mode": {
    "name": "ipython",
    "version": 3
   },
   "file_extension": ".py",
   "mimetype": "text/x-python",
   "name": "python",
   "nbconvert_exporter": "python",
   "pygments_lexer": "ipython3",
   "version": "3.5.2"
  }
 },
 "nbformat": 4,
 "nbformat_minor": 2
}
