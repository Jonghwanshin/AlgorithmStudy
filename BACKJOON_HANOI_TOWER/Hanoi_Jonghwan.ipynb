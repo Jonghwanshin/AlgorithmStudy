{
 "cells": [
  {
   "cell_type": "markdown",
   "metadata": {},
   "source": [
    "하노이 탑\n",
    "반경이 서로 다른 n개의 원판이 쌓여있다\n",
    "반경이 큰 순서대로 쌓여 있다.\n",
    "첫 번째에서 세 번째로 옮기려 한다."
   ]
  },
  {
   "cell_type": "code",
   "execution_count": null,
   "metadata": {
    "collapsed": true
   },
   "outputs": [],
   "source": [
    "다음 작업은 두 가지로 나뉠 수 있다.\n",
    "    - 제일 큰 원판을 끝까지 옮기는 작업\n",
    "    - 나머지 원판을 끝가지 옮기는 작업: (N-1)의 경우로 recursive 하다.\n",
    "\n",
    "Trace 해야 한다.\n"
   ]
  },
  {
   "cell_type": "code",
   "execution_count": null,
   "metadata": {
    "collapsed": true
   },
   "outputs": [],
   "source": [
    "def hanoi(int N):\n",
    "    \"\"\"\n",
    "        Input : number of disk - N\n",
    "        Output : \n",
    "            L1 : K - Total number of steps\n",
    "            L2- : A , B - From tower A to B\n",
    "            * Ignore steps if N is larger than 20\n",
    "    \"\"\"\n",
    "    poles = [[int(x) for x in range(0,N+1)],[],[]]\n",
    "    if N == 0:\n",
    "        return\n",
    "    if N == 1:\n",
    "        print('1')\n",
    "        mv_right(poles)\n",
    "    else:\n",
    "        make_n_1_tower_to_2()\n",
    "        make_n_2_tower_to_3()\n",
    "        hanoi(N-1) + hanoi(N-2)\n",
    "\n",
    "def mv_right(poles,pole_origin):\n",
    "    disk = poles[pole_origin].pop(0)\n",
    "    movable = False\n",
    "    pole_dest = 2\n",
    "    while not movable or pole_dest > 0:\n",
    "        if not poles[pole_dest] or poles[pole_dest][0] > disk:\n",
    "            moveable = True\n",
    "            poles[pole_dest].append(disk)\n",
    "            print('%d %d'%(pole_origin,pole_dest))\n",
    "        pole_dest -= 1"
   ]
  },
  {
   "cell_type": "code",
   "execution_count": 1,
   "metadata": {
    "collapsed": true
   },
   "outputs": [],
   "source": [
    "def hanoiRecursive(ndisks, startPeg=1, endPeg=3):\n",
    "    global phase\n",
    "    if ndisks:\n",
    "        extraPeg = 6 - endPeg - startPeg\n",
    "        hanoiRecursive(ndisks-1, startPeg, extraPeg)\n",
    "        print(startPeg, \"번 기둥의\", ndisks, \"번 원반을\", endPeg, \"번 기둥에 옮깁니다.\")\n",
    "        hanoiRecursive(ndisks-1, extraPeg , endPeg)"
   ]
  },
  {
   "cell_type": "code",
   "execution_count": 2,
   "metadata": {},
   "outputs": [
    {
     "name": "stdout",
     "output_type": "stream",
     "text": [
      "1 번 기둥의 1 번 원반을 3 번 기둥에 옮깁니다.\n",
      "1 번 기둥의 2 번 원반을 2 번 기둥에 옮깁니다.\n",
      "3 번 기둥의 1 번 원반을 2 번 기둥에 옮깁니다.\n",
      "1 번 기둥의 3 번 원반을 3 번 기둥에 옮깁니다.\n",
      "2 번 기둥의 1 번 원반을 1 번 기둥에 옮깁니다.\n",
      "2 번 기둥의 2 번 원반을 3 번 기둥에 옮깁니다.\n",
      "1 번 기둥의 1 번 원반을 3 번 기둥에 옮깁니다.\n",
      "1 번 기둥의 4 번 원반을 2 번 기둥에 옮깁니다.\n",
      "3 번 기둥의 1 번 원반을 2 번 기둥에 옮깁니다.\n",
      "3 번 기둥의 2 번 원반을 1 번 기둥에 옮깁니다.\n",
      "2 번 기둥의 1 번 원반을 1 번 기둥에 옮깁니다.\n",
      "3 번 기둥의 3 번 원반을 2 번 기둥에 옮깁니다.\n",
      "1 번 기둥의 1 번 원반을 3 번 기둥에 옮깁니다.\n",
      "1 번 기둥의 2 번 원반을 2 번 기둥에 옮깁니다.\n",
      "3 번 기둥의 1 번 원반을 2 번 기둥에 옮깁니다.\n",
      "1 번 기둥의 5 번 원반을 3 번 기둥에 옮깁니다.\n",
      "2 번 기둥의 1 번 원반을 1 번 기둥에 옮깁니다.\n",
      "2 번 기둥의 2 번 원반을 3 번 기둥에 옮깁니다.\n",
      "1 번 기둥의 1 번 원반을 3 번 기둥에 옮깁니다.\n",
      "2 번 기둥의 3 번 원반을 1 번 기둥에 옮깁니다.\n",
      "3 번 기둥의 1 번 원반을 2 번 기둥에 옮깁니다.\n",
      "3 번 기둥의 2 번 원반을 1 번 기둥에 옮깁니다.\n",
      "2 번 기둥의 1 번 원반을 1 번 기둥에 옮깁니다.\n",
      "2 번 기둥의 4 번 원반을 3 번 기둥에 옮깁니다.\n",
      "1 번 기둥의 1 번 원반을 3 번 기둥에 옮깁니다.\n",
      "1 번 기둥의 2 번 원반을 2 번 기둥에 옮깁니다.\n",
      "3 번 기둥의 1 번 원반을 2 번 기둥에 옮깁니다.\n",
      "1 번 기둥의 3 번 원반을 3 번 기둥에 옮깁니다.\n",
      "2 번 기둥의 1 번 원반을 1 번 기둥에 옮깁니다.\n",
      "2 번 기둥의 2 번 원반을 3 번 기둥에 옮깁니다.\n",
      "1 번 기둥의 1 번 원반을 3 번 기둥에 옮깁니다.\n"
     ]
    }
   ],
   "source": [
    "hanoiRecursive(5,1,3)"
   ]
  }
 ],
 "metadata": {
  "kernelspec": {
   "display_name": "Python 3",
   "language": "python",
   "name": "python3"
  },
  "language_info": {
   "codemirror_mode": {
    "name": "ipython",
    "version": 3
   },
   "file_extension": ".py",
   "mimetype": "text/x-python",
   "name": "python",
   "nbconvert_exporter": "python",
   "pygments_lexer": "ipython3",
   "version": "3.5.2"
  }
 },
 "nbformat": 4,
 "nbformat_minor": 2
}
