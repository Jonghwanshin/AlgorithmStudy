{
 "cells": [
  {
   "cell_type": "markdown",
   "metadata": {},
   "source": [
    "# N-Queen\n",
    "## 문제\n",
    "N-Queen 문제는 크기가 N x N인 체스판 위에 퀸 N개를 서로 공격할 수 없게 놓는 문제이다.\n",
    "N이 주어졌을때, 퀸을 놓는 방법의 수를 구하는 프로그램을 작성하시오.\n",
    "## 입력\n",
    "첫째 줄에 N이 주어진다.\n",
    "## 출력\n",
    "첫째 줄에 퀸 N개를 서로 공격할 수 없게 놓는 경우의 수를 출력한다.\n",
    "## 예제 입력\n",
    "```\n",
    "8\n",
    "```\n",
    "## 예제 출력\n",
    "```\n",
    "92\n",
    "```"
   ]
  },
  {
   "cell_type": "markdown",
   "metadata": {},
   "source": [
    "### 문제 해결 전략\n",
    "1) [0,0], [N-1, N-1]까지 pointer를 이동시키며, queens를 호출한다.\n",
    "    완전 탐색을 위한 배열을 하나 생성한다.\n",
    "    - cols라는 변수는 i 번째 queen의 위치를 저장한다.\n",
    "    - 못가는 곳을 marking 한다.\n",
    "    - 남는 위치에 marking을 한다."
   ]
  },
  {
   "cell_type": "code",
   "execution_count": 18,
   "metadata": {
    "collapsed": true
   },
   "outputs": [],
   "source": [
    "N = 8\n",
    "cols = ['' for x in range(N+1)]\n",
    "def queens(level):\n",
    "    if not promising(level):\n",
    "        return False\n",
    "    elif level == N:\n",
    "        for i in range(N):\n",
    "            print(i, cols[i])\n",
    "        return True\n",
    "    for i in range(N):\n",
    "        cols[level + 1] = i\n",
    "        if queens(level+1):\n",
    "            return True\n",
    "    return False\n",
    "\n",
    "def promising(level):\n",
    "    for i in range(N):\n",
    "        if(cols[i] == cols[level]):\n",
    "            return False\n",
    "        elif level - 1 == abs(cols[level]-cols[i]):\n",
    "            return False\n",
    "    return True"
   ]
  },
  {
   "cell_type": "code",
   "execution_count": 19,
   "metadata": {
    "scrolled": true
   },
   "outputs": [
    {
     "data": {
      "text/plain": [
       "False"
      ]
     },
     "execution_count": 19,
     "metadata": {},
     "output_type": "execute_result"
    }
   ],
   "source": [
    "queens(0)"
   ]
  }
 ],
 "metadata": {
  "kernelspec": {
   "display_name": "Python 3",
   "language": "python",
   "name": "python3"
  },
  "language_info": {
   "codemirror_mode": {
    "name": "ipython",
    "version": 3
   },
   "file_extension": ".py",
   "mimetype": "text/x-python",
   "name": "python",
   "nbconvert_exporter": "python",
   "pygments_lexer": "ipython3",
   "version": "3.5.2"
  }
 },
 "nbformat": 4,
 "nbformat_minor": 2
}
