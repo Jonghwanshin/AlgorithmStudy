{
 "cells": [
  {
   "cell_type": "markdown",
   "metadata": {},
   "source": [
    "# Breath First Search\n",
    "기본 개념\n",
    "    - 그래프 G = (V,E)\n",
    "    - V: 노드(node) 혹은 정점(vertex)\n",
    "    - E: 노드쌍을 연결하는 에지(edge) 혹은 링크(link)\n",
    "    - 개체(object)들 간의 이진관계를 표현\n",
    "    - n=|V|, m=|E|"
   ]
  },
  {
   "cell_type": "markdown",
   "metadata": {},
   "source": [
    "## 인접 행렬을 이용한 BFS\n",
    "Good for dense graph"
   ]
  },
  {
   "cell_type": "code",
   "execution_count": 1,
   "metadata": {
    "collapsed": true
   },
   "outputs": [],
   "source": [
    "Graph = [[0,1,1,0],\n",
    "         [1,0,1,0],\n",
    "         [1,1,0,1],\n",
    "         [0,0,1,1]]"
   ]
  },
  {
   "cell_type": "code",
   "execution_count": 6,
   "metadata": {
    "collapsed": true
   },
   "outputs": [],
   "source": [
    "def BFS(G):\n",
    "    Q = [0]\n",
    "    Visited = []\n",
    "    while Q:\n",
    "        u = Q.pop()\n",
    "        for v in range(len(G)):\n",
    "            if G[u][v] != 0: #if this is not unreachable\n",
    "                if v not in Visited:\n",
    "                    #do what you gotta do\n",
    "                    Visited.append(v) #mark v as visited;\n",
    "                    Q.append(v)\n",
    "                    print(v)\n",
    "    print(Visited)"
   ]
  },
  {
   "cell_type": "code",
   "execution_count": 7,
   "metadata": {
    "scrolled": true
   },
   "outputs": [
    {
     "name": "stdout",
     "output_type": "stream",
     "text": [
      "1\n",
      "2\n",
      "0\n",
      "3\n",
      "[1, 2, 0, 3]\n"
     ]
    }
   ],
   "source": [
    "BFS(Graph)"
   ]
  },
  {
   "cell_type": "markdown",
   "metadata": {},
   "source": [
    "## 인접 리스트를 이용한 BFS\n",
    "Good for sparse graph"
   ]
  },
  {
   "cell_type": "code",
   "execution_count": null,
   "metadata": {
    "collapsed": true
   },
   "outputs": [],
   "source": [
    "graph = {'A': ['B', 'C', 'E'],\n",
    "         'B': ['A','D', 'E'],\n",
    "         'C': ['A', 'F', 'G'],\n",
    "         'D': ['B'],\n",
    "         'E': ['A', 'B','D'],\n",
    "         'F': ['C'],\n",
    "         'G': ['C']}"
   ]
  },
  {
   "cell_type": "markdown",
   "metadata": {},
   "source": [
    "# Depth First Search\n",
    "기본 개념\n"
   ]
  },
  {
   "cell_type": "markdown",
   "metadata": {},
   "source": [
    "## 인접 행렬을 이용한 BFS\n",
    "기본 개념"
   ]
  },
  {
   "cell_type": "code",
   "execution_count": null,
   "metadata": {
    "collapsed": true
   },
   "outputs": [],
   "source": [
    "def DFS(G,v)\n",
    "    visited.append(v)\n",
    "    for x in range(len(G))\n",
    "        if G[u][x] != 0 and visited[v] == 0:\n",
    "            DFS(G,x)"
   ]
  }
 ],
 "metadata": {
  "kernelspec": {
   "display_name": "Python 3",
   "language": "python",
   "name": "python3"
  },
  "language_info": {
   "codemirror_mode": {
    "name": "ipython",
    "version": 3
   },
   "file_extension": ".py",
   "mimetype": "text/x-python",
   "name": "python",
   "nbconvert_exporter": "python",
   "pygments_lexer": "ipython3",
   "version": "3.5.2"
  }
 },
 "nbformat": 4,
 "nbformat_minor": 2
}
