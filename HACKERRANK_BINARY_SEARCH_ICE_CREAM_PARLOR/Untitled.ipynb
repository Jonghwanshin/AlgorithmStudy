{
 "cells": [
  {
   "cell_type": "markdown",
   "metadata": {},
   "source": [
    "# Binary Search: Ice Cream Parlor\n"
   ]
  },
  {
   "cell_type": "markdown",
   "metadata": {},
   "source": [
    "Sunny and johnny choose two distinct flavors such that they spend their entire pool of money during each visit.\n",
    "print the id numbers for the two types of ice cream that sunny and johnny purchase as two space-separaterd integers on a new line.\n",
    "smaller ID comes first.\n",
    "\n",
    "Inputs\n",
    "t- the number of trips to the ice cream parlor(test_case_num)\n",
    "money - Sunny and Johnny pool together money dollars for ice cram.\n",
    "n - parlor offers a line of n flavors\n",
    "n1, n2, n3 .... , nn the cost of each respective flavor\n"
   ]
  }
 ],
 "metadata": {
  "kernelspec": {
   "display_name": "Python 3",
   "language": "python",
   "name": "python3"
  },
  "language_info": {
   "codemirror_mode": {
    "name": "ipython",
    "version": 3
   },
   "file_extension": ".py",
   "mimetype": "text/x-python",
   "name": "python",
   "nbconvert_exporter": "python",
   "pygments_lexer": "ipython3",
   "version": "3.5.2"
  }
 },
 "nbformat": 4,
 "nbformat_minor": 2
}
