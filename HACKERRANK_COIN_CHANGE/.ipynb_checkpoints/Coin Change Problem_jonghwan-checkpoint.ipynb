{
 "cells": [
  {
   "cell_type": "markdown",
   "metadata": {},
   "source": [
    "determine the number of ways of making cange for n units\n",
    "m = types of coins in infinite quantities\n",
    "C = value of each coin is given in array\n",
    "n = target value\n",
    "\n",
    "1<=c_i<=50\n",
    "1<=n<=250\n",
    "1<=m<=50\n",
    "\n",
    "Input format\n",
    "    - first line: n and m\n",
    "    - second line: m space-seperated integers, describing each values\n",
    "Output format\n",
    "    - the way of making format\n"
   ]
  },
  {
   "cell_type": "code",
   "execution_count": 21,
   "metadata": {},
   "outputs": [
    {
     "name": "stdout",
     "output_type": "stream",
     "text": [
      "166 23\n",
      "5 37 8 39 33 17 22 32 13 7 10 35 40 2 43 49 46 19 41 1 12 11 28\n",
      "[-1, 1, 2, 3, 4, 5, 6, 7, 8, 9, 10, 11, 12, 13, 14, 15, 16, 17, 18, 19, 20, 21, 22, 23, 24, 25, 26, 27, 28, 29, 30, 31, 32, 33, 34, 35, 36, 37, 38, 39, 40, 41, 42, 43, 44, 45, 46, 47, 48, 49]\n",
      "166\n"
     ]
    }
   ],
   "source": [
    "#!/bin/python3\n",
    "\n",
    "import sys\n",
    "\n",
    "cache = [-1 for x in range(250)]\n",
    "\n",
    "def getWays(n, c):\n",
    "    # Complete this function\n",
    "    if(n <= 0) or (c[0] > n):\n",
    "        return 0\n",
    "    if(cache[n] != -1):\n",
    "        return cache[n]\n",
    "    if(n in c):\n",
    "        if(cache[n] == -1):\n",
    "            cache[n] = 1\n",
    "        else:\n",
    "            cache[n] = cache[n] + 1\n",
    "    idx = 0\n",
    "    while((n - c[idx]) > 0):\n",
    "        cache[n] = getWays(n-c[idx],c) + getWays(c[idx],c)\n",
    "        return cache[n]\n",
    "    return cache[n]\n",
    "\n",
    "n, m = input().strip().split(' ')\n",
    "n, m = [int(n), int(m)]\n",
    "c = list(map(int, input().strip().split(' ')))\n",
    "c.sort()\n",
    "print(c)\n",
    "# Print the number of ways of making change for 'n' units using coins having the values given by 'c'\n",
    "ways = getWays(n, c)\n",
    "print(cache[0:50])\n",
    "print(ways)\n"
   ]
  }
 ],
 "metadata": {
  "kernelspec": {
   "display_name": "Python 3",
   "language": "python",
   "name": "python3"
  },
  "language_info": {
   "codemirror_mode": {
    "name": "ipython",
    "version": 3
   },
   "file_extension": ".py",
   "mimetype": "text/x-python",
   "name": "python",
   "nbconvert_exporter": "python",
   "pygments_lexer": "ipython3",
   "version": "3.5.2"
  }
 },
 "nbformat": 4,
 "nbformat_minor": 2
}
