{
 "cells": [
  {
   "cell_type": "markdown",
   "metadata": {},
   "source": [
    "# Equal\n",
    "\n",
    "she can choose one of her colleages and can do one of the three things\n",
    "\n",
    "1) She can give one chocolate to every colleague other than chosen one.\n",
    "\n",
    "2) She can give two chocolates to every colleague other than chosen one.\n",
    "\n",
    "3) She can give five chocolates to every colleague other than chosen one.\n",
    "\n",
    "Objective: Calculate minimum number of such operations needed to ensure that every colleague has the same number of chocolates\n",
    "(1,2,5)\n",
    "\n",
    "## Input Format\n",
    "    T = number of test cases\n",
    "    each test cases:\n",
    "        N = the number of colleages\n",
    "        current number of chocolates each colleage has\n",
    "\n",
    "## Constraints\n",
    "    1 <= T <= 100\n",
    "    1 <= N <= 10000\n",
    "    Number of initial chocolates each colleage has < 1000\n",
    "\n",
    "## Output Format\n",
    "T lines\n",
    "containing the minimual number of operations needed to make sure all colleagues have the same number of chocolates"
   ]
  },
  {
   "cell_type": "markdown",
   "metadata": {},
   "source": [
    "## How to solve\n"
   ]
  },
  {
   "cell_type": "code",
   "execution_count": null,
   "metadata": {},
   "outputs": [],
   "source": [
    "# Enter your code here. Read input from STDIN. Print output to STDOUT\n",
    "import sys\n",
    "\n",
    "test_case = sys.stdin.read()\n",
    "colleagueNum = sys.stdin.read()\n",
    "colleagues = sys.stdin.read().split(' ')\n",
    "\n",
    "print(test_case)\n",
    "print(colleagueNum)\n",
    "print(colleagues)"
   ]
  },
  {
   "cell_type": "code",
   "execution_count": 12,
   "metadata": {},
   "outputs": [
    {
     "name": "stdout",
     "output_type": "stream",
     "text": [
      "1\n",
      "4\n",
      "2 2 3 7\n",
      "1\n",
      "4\n",
      "[2, 2, 3, 7]\n",
      "[0, 0, 1, 5]\n",
      "5\n"
     ]
    }
   ],
   "source": [
    "# Enter your code here. Read input from STDIN. Print output to STDOUT\n",
    "import sys\n",
    "import collections\n",
    "test_case = int(input())\n",
    "colleagueNum = int(input())\n",
    "colleagues = [int(x) for x in input().split(' ')]\n",
    "chocolateVector = [1,2,5]\n",
    "\n",
    "print(test_case)\n",
    "print(colleagueNum)\n",
    "print(colleagues)\n",
    "\n",
    "colleagues.sort()\n",
    "colleagues = [int(x) - min(colleagues) for x in colleagues]\n",
    "print(colleagues)\n",
    "\n",
    "# expand the number of the same number\n",
    "occur = collections.Counter(colleagues)\n",
    "previousMaximumOccurence = max(occur.values(), key = int)\n",
    "#find a way for increase maximum \n",
    "for colleague in colleagueNum:\n",
    "    for chocolate in chocolateVector:\n",
    "        givechocolate = \n",
    "        occur + #except current colleagues"
   ]
  }
 ],
 "metadata": {
  "kernelspec": {
   "display_name": "Python 3",
   "language": "python",
   "name": "python3"
  },
  "language_info": {
   "codemirror_mode": {
    "name": "ipython",
    "version": 3
   },
   "file_extension": ".py",
   "mimetype": "text/x-python",
   "name": "python",
   "nbconvert_exporter": "python",
   "pygments_lexer": "ipython3",
   "version": "3.5.2"
  }
 },
 "nbformat": 4,
 "nbformat_minor": 2
}
