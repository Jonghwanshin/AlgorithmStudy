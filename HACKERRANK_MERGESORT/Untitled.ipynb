{
 "cells": [
  {
   "cell_type": "code",
   "execution_count": null,
   "metadata": {
    "collapsed": true
   },
   "outputs": [],
   "source": [
    "def mergeSort(arr):\n",
    "    result = 0\n",
    "    if len(arr) > 1:\n",
    "        mid = len(arr)//2\n",
    "        left_arr = arr[:mid]\n",
    "        right_arr = arr[mid:]\n",
    "        \n",
    "        mergeSort(left_arr)\n",
    "        mergeSort(right_arr)\n",
    "        \n",
    "        i=0 # left_index\n",
    "        j=0 # right_index\n",
    "        k=0 # index of overall index\n",
    "        while i< len(left_arr) and j < len(right_arr):\n",
    "            if left_arr[i] <= right_arr[j]:\n",
    "                #arr[k] = left_arr[j]\n",
    "                i = i + 1\n",
    "            else:\n",
    "                #arr[k] = right[j]\n",
    "                j = j + 1\n",
    "                result = result + 1\n",
    "            k=k+1\n",
    "        while i < len(left_arr):\n",
    "            #arr[k] = left_arr[i]\n",
    "            i = i+1\n",
    "            k = k+1\n",
    "        while j < len(right_arr):\n",
    "            #arr[k] = right_arr[j]\n",
    "            j = j+1\n",
    "            k = k +1\n",
    "    return result"
   ]
  }
 ],
 "metadata": {
  "kernelspec": {
   "display_name": "Python 3",
   "language": "python",
   "name": "python3"
  },
  "language_info": {
   "codemirror_mode": {
    "name": "ipython",
    "version": 3
   },
   "file_extension": ".py",
   "mimetype": "text/x-python",
   "name": "python",
   "nbconvert_exporter": "python",
   "pygments_lexer": "ipython3",
   "version": "3.5.2"
  }
 },
 "nbformat": 4,
 "nbformat_minor": 2
}
