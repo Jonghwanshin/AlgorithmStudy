{
 "cells": [
  {
   "cell_type": "markdown",
   "metadata": {},
   "source": [
    "# Bit Manipulation: Lonely Integer\n",
    "find unique element\n",
    "bit manipulation?"
   ]
  },
  {
   "cell_type": "markdown",
   "metadata": {},
   "source": [
    "## 내가 제출한 답안"
   ]
  },
  {
   "cell_type": "code",
   "execution_count": null,
   "metadata": {
    "collapsed": true
   },
   "outputs": [],
   "source": [
    "#!/bin/python3\n",
    "\n",
    "import sys\n",
    "\n",
    "def lonely_integer(a):\n",
    "    dic = {}\n",
    "    for a_i in a:\n",
    "        if a_i not in dic:\n",
    "            dic[a_i] = 1\n",
    "        else:\n",
    "            dic[a_i] = dic[a_i]  + 1\n",
    "    res = [x for x in dic if dic[x] == 1 ]\n",
    "    return(int(res[0]))\n",
    "\n",
    "n = int(input().strip())\n",
    "a = [int(a_temp) for a_temp in input().strip().split(' ')]\n",
    "print(lonely_integer(a))"
   ]
  },
  {
   "cell_type": "markdown",
   "metadata": {},
   "source": [
    "## 모범답안"
   ]
  },
  {
   "cell_type": "code",
   "execution_count": null,
   "metadata": {
    "collapsed": true
   },
   "outputs": [],
   "source": [
    "#!/bin/python3\n",
    "\n",
    "import sys\n",
    "\n",
    "def lonely_integer(a):\n",
    "    result = 0\n",
    "    for i in a:\n",
    "        result ^= i\n",
    "    return result\n",
    "\n",
    "n = int(input().strip())\n",
    "a = [int(a_temp) for a_temp in input().strip().split(' ')]\n",
    "print(lonely_integer(a))"
   ]
  }
 ],
 "metadata": {
  "kernelspec": {
   "display_name": "Python 3",
   "language": "python",
   "name": "python3"
  },
  "language_info": {
   "codemirror_mode": {
    "name": "ipython",
    "version": 3
   },
   "file_extension": ".py",
   "mimetype": "text/x-python",
   "name": "python",
   "nbconvert_exporter": "python",
   "pygments_lexer": "ipython3",
   "version": "3.5.2"
  }
 },
 "nbformat": 4,
 "nbformat_minor": 2
}
