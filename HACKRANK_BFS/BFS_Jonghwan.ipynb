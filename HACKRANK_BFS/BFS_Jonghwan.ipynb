{
 "cells": [
  {
   "cell_type": "markdown",
   "metadata": {},
   "source": [
    "# BFS: Shortest Reach in a Graph\n",
    "- Input\n",
    "2 <-- number of queries\n",
    "4 2 <-- number of nodes, number of edges\n",
    "1 2 <-- edge #2: length is 6\n",
    "1 3 <-- edge #1\n",
    "1 <-- starting node\n",
    "3 1\n",
    "2 3\n",
    "2\n",
    "Output"
   ]
  },
  {
   "cell_type": "code",
   "execution_count": null,
   "metadata": {
    "collapsed": true
   },
   "outputs": [],
   "source": [
    "def findShortestPath(graph,s):\n",
    "    visited = set()\n",
    "    queue = []\n",
    "    distance = [-1 for x in range(len(graph))]\n",
    "    distance[s] = 0\n",
    "    predecessor = s\n",
    "    queue.append(s)\n",
    "    while queue:\n",
    "        u = queue.pop(0)\n",
    "        #print(u)\n",
    "        #print(graph[u])\n",
    "        adjcent_nodes = [x for x in range(len(graph)) if graph[u][x] != -1 and graph[u][x] != 0 and not x in visited]\n",
    "        #print(adjcent_nodes)\n",
    "        for adjcent_node in adjcent_nodes:\n",
    "            if not adjcent_node in visited:\n",
    "                visited.add(adjcent_node)\n",
    "                distance[adjcent_node] = distance[predecessor] + 6\n",
    "                predecessor = u\n",
    "                queue.append(adjcent_node)\n",
    "    #print(distance)\n",
    "    res = [distance[x] for x in range(len(distance)) if x != s and x != 0 ]\n",
    "    for x in res:\n",
    "        print(x, end = ' ')\n",
    "    \n",
    "t = int(input())\n",
    "for i in range(t):\n",
    "    n,m = [int(value) for value in input().split()]\n",
    "    #graph = Graph(n)\n",
    "    graph = [[-1 for x in range(n+1)] for y in range(n+1)]\n",
    "    for n in range(n):\n",
    "        graph[n][n] = 0\n",
    "    for i in range(m):\n",
    "        x,y = [int(x) for x in input().split()]\n",
    "        graph[y][x] = 6\n",
    "        graph[x][y] = 6\n",
    "        #graph.connect(x-1,y-1) \n",
    "    #print(graph)\n",
    "    s = int(input())\n",
    "    findShortestPath(graph,s)\n",
    "    print()\n",
    "    \n"
   ]
  },
  {
   "cell_type": "code",
   "execution_count": null,
   "metadata": {
    "collapsed": true
   },
   "outputs": [],
   "source": [
    "#vertexList = ['A', 'B', 'C', 'D', 'E', 'F', 'G']\n",
    "#edgeList = [(0,1), (1,2), (1,3), (3,4), (4,5), (1,6)]\n",
    "#graphs = (vertexList, edgeList)\n",
    "\n",
    "def bfsDist(graph, start):\n",
    "    vertexList, edgeList = graph\n",
    "    visitedList = []\n",
    "    queue = [start]\n",
    "    adjacencyList = [[] for vertex in vertexList]\n",
    "    distance = [-1 for x in range(len(vertexList))]\n",
    "    distance[start] = 0\n",
    "    \n",
    "    # fill adjacencyList from graph\n",
    "    for edge in edgeList:\n",
    "        adjacencyList[edge[0]].append(edge[1])\n",
    "        adjacencyList[edge[1]].append(edge[0])\n",
    "    # bfs\n",
    "    while queue:\n",
    "        current = queue.pop(0)\n",
    "        for neighbor in adjacencyList[current]:\n",
    "            if not neighbor in visitedList:\n",
    "                distance[neighbor] = distance[current] + 6\n",
    "                queue.append(neighbor)\n",
    "        visitedList.append(current)\n",
    "    distance.pop(start)\n",
    "    print (' '.join(map(str,distance)))\n",
    "    return distance\n",
    "\n",
    "t = int(input())\n",
    "for i in range(t):\n",
    "    n,m = [int(value) for value in input().split()]\n",
    "    vertexList = [int(x) for x in range(n)]\n",
    "    edgeList =[]\n",
    "    for i in range(m):\n",
    "        x,y = [int(x) for x in input().split()]\n",
    "        edgeList.append((x-1,y-1))\n",
    "    graph = (vertexList, edgeList)\n",
    "    s = int(input())\n",
    "    bfsDist(graph,s-1)"
   ]
  },
  {
   "cell_type": "markdown",
   "metadata": {},
   "source": [
    "## 최종적으로 성공한 코드"
   ]
  },
  {
   "cell_type": "code",
   "execution_count": null,
   "metadata": {
    "collapsed": true
   },
   "outputs": [],
   "source": [
    "from collections import defaultdict\n",
    "\n",
    "class Graph:\n",
    "    def __init__(self,n):\n",
    "        self.vertexes = n\n",
    "        self.edges = defaultdict(lambda: [])\n",
    "    def connect(self,x,y):\n",
    "        self.edges[x].append(y)\n",
    "        self.edges[y].append(x)\n",
    "    def find_all_distances(self,s):\n",
    "        queue = []\n",
    "        unvisited = set([i for i in range(self.vertexes)])\n",
    "        distances = [-1 for x in range(self.vertexes)]\n",
    "        distances[s] = 0\n",
    "        queue.append(s)\n",
    "        unvisited.remove(s)\n",
    "        while queue:\n",
    "            u = queue.pop(0)\n",
    "            for neighbor in self.edges[u]:\n",
    "                if neighbor in unvisited:\n",
    "                    distances[neighbor] = distances[u] + 6\n",
    "                    unvisited.remove(neighbor)\n",
    "                    queue.append(neighbor)\n",
    "        distances.pop(s)\n",
    "        print(' '.join(map(str, distances)))\n",
    "                      \n",
    "t = int(input())\n",
    "for i in range(t):\n",
    "    n,m = [int(value) for value in input().split()]\n",
    "    graph = Graph(n)\n",
    "    for i in range(m):\n",
    "        x,y = [int(x) for x in input().split()]\n",
    "        graph.connect(x-1,y-1) \n",
    "    s = int(input())\n",
    "    graph.find_all_distances(s-1)"
   ]
  }
 ],
 "metadata": {
  "kernelspec": {
   "display_name": "Python 3",
   "language": "python",
   "name": "python3"
  },
  "language_info": {
   "codemirror_mode": {
    "name": "ipython",
    "version": 3
   },
   "file_extension": ".py",
   "mimetype": "text/x-python",
   "name": "python",
   "nbconvert_exporter": "python",
   "pygments_lexer": "ipython3",
   "version": "3.5.2"
  }
 },
 "nbformat": 4,
 "nbformat_minor": 2
}
