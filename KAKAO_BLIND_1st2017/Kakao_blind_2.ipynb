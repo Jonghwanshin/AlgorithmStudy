{
 "cells": [
  {
   "cell_type": "markdown",
   "metadata": {},
   "source": [
    "# 2. 다트 게임(난이도: 하)\n",
    "카카오톡 게임별의 하반기 신규 서비스로 다트 게임을 출시하기로 했다. 다트 게임은 다트판에 다트를 세 차례 던져 그 점수의 합계로 실력을 겨루는 게임으로, 모두가 간단히 즐길 수 있다.\n",
    "갓 입사한 무지는 코딩 실력을 인정받아 게임의 핵심 부분인 점수 계산 로직을 맡게 되었다. 다트 게임의 점수 계산 로직은 아래와 같다.\n",
    "- 다트 게임은 총 3번의 기회로 구성된다.\n",
    "- 각 기회마다 얻을 수 있는 점수는 0점에서 10점까지이다.\n",
    "- 점수와 함께 Single(S), Double(D), Triple(T) 영역이 존재하고 각 영역 당첨 시 점수에서 1제곱, 2제곱, 3제곱 (점수^1 , 점수^2 , 점수^3 )으로 계산된다.\n",
    "- 옵션으로 스타상(*) , 아차상(#)이 존재하며 스타상(*) 당첨 시 해당 점수와 바로 전에 얻은 점수를 각 2배로 만든다. 아차상(#) 당첨 시 해당 점수는 마이너스된다.\n",
    "- 스타상(*)은 첫 번째 기회에서도 나올 수 있다. 이 경우 첫 번째 스타상(*)의 점수만 2배가 된다. (예제 4번 참고)\n",
    "- 스타상(*)의 효과는 다른 스타상(*)의 효과와 중첩될 수 있다. 이 경우 중첩된 스타상(*) 점수는 4배가 된다. (예제 4번 참고)\n",
    "- 스타상(*)의 효과는 아차상(#)의 효과와 중첩될 수 있다. 이 경우 중첩된 아차상(#)의 점수는 -2배가 된다. (예제 5번 참고)\n",
    "- Single(S), Double(D), Triple(T)은 점수마다 하나씩 존재한다.\n",
    "- 스타상(*), 아차상(#)은 점수마다 둘 중 하나만 존재할 수 있으며, 존재하지 않을 수도 있다.\n",
    "- 0~10의 정수와 문자 S, D, T, *, #로 구성된 문자열이 입력될 시 총점수를 반환하는 함수를 작성하라."
   ]
  },
  {
   "cell_type": "code",
   "execution_count": 148,
   "metadata": {
    "collapsed": true
   },
   "outputs": [],
   "source": [
    "import re\n",
    "def dartKing(input_str):\n",
    "    dartResult = input_str\n",
    "    mediumResult=dartResult.replace('S', ' S ').replace('D',' D ')\\\n",
    "    .replace('T', ' T ').replace('*', '* ').replace('#', '# ')\n",
    "    splited = re.split(splitString,mediumResult)\n",
    "    resultScore = 0\n",
    "    temp = 0\n",
    "    temp2 = 0\n",
    "    for char in splited:\n",
    "        print(char)\n",
    "        if(re.match('[0-9]+',char)):\n",
    "            temp2 = temp\n",
    "            temp = int(char)\n",
    "        elif(re.match('[SDT]',char)):\n",
    "            if(char == 'S'):\n",
    "                temp = temp\n",
    "            elif(char == 'D'):\n",
    "                temp = temp ** 2\n",
    "            elif(char == 'T'):\n",
    "                print('triple')\n",
    "                temp = temp ** 3\n",
    "            resultScore = resultScore + temp;\n",
    "            print(\"score:\",resultScore)\n",
    "        elif(re.match('[\\*\\#]',char)):\n",
    "            print('bonus')\n",
    "            if(char == '*'):\n",
    "                print(temp2,temp)\n",
    "                print('CurrentScore:',resultScore)\n",
    "                #temp = temp+temp2\n",
    "                resultScore = resultScore + (temp+temp2)\n",
    "                temp = temp*2\n",
    "            elif(char == '#'):\n",
    "                resultScore = resultScore - (2*temp)\n",
    "                temp = temp*-1\n",
    "            print(\"score:\",resultScore)\n",
    "    print(resultScore)\n",
    "    return resultScore"
   ]
  },
  {
   "cell_type": "code",
   "execution_count": 149,
   "metadata": {
    "collapsed": true
   },
   "outputs": [],
   "source": [
    "def assert_value(i1, i2):\n",
    "    if(i1 == i2):\n",
    "        return True\n",
    "    else:\n",
    "        return False"
   ]
  },
  {
   "cell_type": "code",
   "execution_count": 150,
   "metadata": {
    "collapsed": true
   },
   "outputs": [
    {
     "name": "stdout",
     "output_type": "stream",
     "text": [
      "1\n",
      "S\n",
      "score: 1\n",
      "2\n",
      "D\n",
      "score: 5\n",
      "*\n",
      "bonus\n",
      "1 4\n",
      "CurrentScore: 5\n",
      "score: 10\n",
      "3\n",
      "T\n",
      "triple\n",
      "score: 37\n",
      "\n",
      "37\n",
      "1\n",
      "D\n",
      "score: 1\n",
      "2\n",
      "S\n",
      "score: 3\n",
      "#\n",
      "bonus\n",
      "score: -1\n",
      "10\n",
      "S\n",
      "score: 9\n",
      "\n",
      "9\n",
      "1\n",
      "D\n",
      "score: 1\n",
      "2\n",
      "S\n",
      "score: 3\n",
      "0\n",
      "T\n",
      "triple\n",
      "score: 3\n",
      "\n",
      "3\n",
      "1\n",
      "S\n",
      "score: 1\n",
      "*\n",
      "bonus\n",
      "0 1\n",
      "CurrentScore: 1\n",
      "score: 2\n",
      "2\n",
      "T\n",
      "triple\n",
      "score: 10\n",
      "*\n",
      "bonus\n",
      "2 8\n",
      "CurrentScore: 10\n",
      "score: 20\n",
      "3\n",
      "S\n",
      "score: 23\n",
      "\n",
      "23\n",
      "1\n",
      "D\n",
      "score: 1\n",
      "#\n",
      "bonus\n",
      "score: -1\n",
      "2\n",
      "S\n",
      "score: 1\n",
      "*\n",
      "bonus\n",
      "-1 2\n",
      "CurrentScore: 1\n",
      "score: 2\n",
      "3\n",
      "S\n",
      "score: 5\n",
      "\n",
      "5\n",
      "1\n",
      "T\n",
      "triple\n",
      "score: 1\n",
      "2\n",
      "D\n",
      "score: 5\n",
      "3\n",
      "D\n",
      "score: 14\n",
      "#\n",
      "bonus\n",
      "score: -4\n",
      "\n",
      "-4\n",
      "1\n",
      "D\n",
      "score: 1\n",
      "2\n",
      "S\n",
      "score: 3\n",
      "3\n",
      "T\n",
      "triple\n",
      "score: 30\n",
      "*\n",
      "bonus\n",
      "2 27\n",
      "CurrentScore: 30\n",
      "score: 59\n",
      "\n",
      "59\n"
     ]
    },
    {
     "ename": "IndexError",
     "evalue": "list index out of range",
     "output_type": "error",
     "traceback": [
      "\u001b[0;31m---------------------------------------------------------------------------\u001b[0m",
      "\u001b[0;31mIndexError\u001b[0m                                Traceback (most recent call last)",
      "\u001b[0;32m<ipython-input-150-4987db3ff062>\u001b[0m in \u001b[0;36m<module>\u001b[0;34m()\u001b[0m\n\u001b[1;32m      3\u001b[0m \u001b[0mresult_dart\u001b[0m \u001b[0;34m=\u001b[0m\u001b[0;34m[\u001b[0m\u001b[0;34m]\u001b[0m\u001b[0;34m\u001b[0m\u001b[0m\n\u001b[1;32m      4\u001b[0m \u001b[0;32mfor\u001b[0m \u001b[0mi\u001b[0m \u001b[0;32min\u001b[0m \u001b[0mrange\u001b[0m\u001b[0;34m(\u001b[0m\u001b[0;36m8\u001b[0m\u001b[0;34m)\u001b[0m\u001b[0;34m:\u001b[0m\u001b[0;34m\u001b[0m\u001b[0m\n\u001b[0;32m----> 5\u001b[0;31m     \u001b[0mresult_dart\u001b[0m\u001b[0;34m.\u001b[0m\u001b[0mappend\u001b[0m\u001b[0;34m(\u001b[0m\u001b[0massert_value\u001b[0m\u001b[0;34m(\u001b[0m\u001b[0mdartKing\u001b[0m\u001b[0;34m(\u001b[0m\u001b[0mtest_case\u001b[0m\u001b[0;34m[\u001b[0m\u001b[0mi\u001b[0m\u001b[0;34m]\u001b[0m\u001b[0;34m)\u001b[0m\u001b[0;34m,\u001b[0m\u001b[0mtest_oracle\u001b[0m\u001b[0;34m[\u001b[0m\u001b[0mi\u001b[0m\u001b[0;34m]\u001b[0m\u001b[0;34m)\u001b[0m\u001b[0;34m)\u001b[0m\u001b[0;34m\u001b[0m\u001b[0m\n\u001b[0m",
      "\u001b[0;31mIndexError\u001b[0m: list index out of range"
     ]
    }
   ],
   "source": [
    "test_case = ['1S2D*3T','1D2S#10S','1D2S0T','1S*2T*3S','1D#2S*3S','1T2D3D#','1D2S3T*']\n",
    "test_oracle = [37, 9, 3, 23, 5, -4, 59]\n",
    "result_dart =[]\n",
    "for i in range(8):\n",
    "    result_dart.append(assert_value(dartKing(test_case[i]),test_oracle[i]))"
   ]
  },
  {
   "cell_type": "code",
   "execution_count": 151,
   "metadata": {},
   "outputs": [
    {
     "name": "stdout",
     "output_type": "stream",
     "text": [
      "Result  0 True\n",
      "Result  1 True\n",
      "Result  2 True\n",
      "Result  3 True\n",
      "Result  4 True\n",
      "Result  5 True\n",
      "Result  6 True\n"
     ]
    },
    {
     "ename": "IndexError",
     "evalue": "list index out of range",
     "output_type": "error",
     "traceback": [
      "\u001b[0;31m---------------------------------------------------------------------------\u001b[0m",
      "\u001b[0;31mIndexError\u001b[0m                                Traceback (most recent call last)",
      "\u001b[0;32m<ipython-input-151-c8462267edec>\u001b[0m in \u001b[0;36m<module>\u001b[0;34m()\u001b[0m\n\u001b[1;32m      1\u001b[0m \u001b[0;32mfor\u001b[0m \u001b[0mi\u001b[0m \u001b[0;32min\u001b[0m \u001b[0mrange\u001b[0m\u001b[0;34m(\u001b[0m\u001b[0;36m8\u001b[0m\u001b[0;34m)\u001b[0m\u001b[0;34m:\u001b[0m\u001b[0;34m\u001b[0m\u001b[0m\n\u001b[0;32m----> 2\u001b[0;31m     \u001b[0mprint\u001b[0m\u001b[0;34m(\u001b[0m\u001b[0;34m\"Result \"\u001b[0m\u001b[0;34m,\u001b[0m\u001b[0mi\u001b[0m\u001b[0;34m,\u001b[0m\u001b[0mresult_dart\u001b[0m\u001b[0;34m[\u001b[0m\u001b[0mi\u001b[0m\u001b[0;34m]\u001b[0m\u001b[0;34m)\u001b[0m\u001b[0;34m\u001b[0m\u001b[0m\n\u001b[0m",
      "\u001b[0;31mIndexError\u001b[0m: list index out of range"
     ]
    }
   ],
   "source": [
    "for i in range(8):\n",
    "    print(\"Result \",i,result_dart[i])"
   ]
  }
 ],
 "metadata": {
  "kernelspec": {
   "display_name": "Python 3",
   "language": "python",
   "name": "python3"
  },
  "language_info": {
   "codemirror_mode": {
    "name": "ipython",
    "version": 3
   },
   "file_extension": ".py",
   "mimetype": "text/x-python",
   "name": "python",
   "nbconvert_exporter": "python",
   "pygments_lexer": "ipython3",
   "version": "3.5.2"
  }
 },
 "nbformat": 4,
 "nbformat_minor": 2
}
