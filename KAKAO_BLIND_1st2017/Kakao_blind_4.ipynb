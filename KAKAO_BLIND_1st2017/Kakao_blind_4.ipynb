{
 "cells": [
  {
   "cell_type": "markdown",
   "metadata": {
    "collapsed": true
   },
   "source": [
    "# 4. 셔틀버스(난이도: 중)\n",
    "\n",
    "카카오에서는 무료 셔틀버스를 운행하기 때문에 판교역에서 편하게 사무실로 올 수 있다. 카카오의 직원은 서로를 ‘크루’라고 부르는데, 아침마다 많은 크루들이 이 셔틀을 이용하여 출근한다.\n",
    "이 문제에서는 편의를 위해 셔틀은 다음과 같은 규칙으로 운행한다고 가정하자.\n",
    "셔틀은 09:00부터 총 n회 t분 간격으로 역에 도착하며, 하나의 셔틀에는 최대 m명의 승객이 탈 수 있다.\n",
    "셔틀은 도착했을 때 도착한 순간에 대기열에 선 크루까지 포함해서 대기 순서대로 태우고 바로 출발한다. 예를 들어 09:00에 도착한 셔틀은 자리가 있다면 09:00에 줄을 선 크루도 탈 수 있다.\n",
    "일찍 나와서 셔틀을 기다리는 것이 귀찮았던 콘은, 일주일간의 집요한 관찰 끝에 어떤 크루가 몇 시에 셔틀 대기열에 도착하는지 알아냈다. 콘이 셔틀을 타고 사무실로 갈 수 있는 도착 시각 중 제일 늦은 시각을 구하여라.\n",
    "단, 콘은 게으르기 때문에 같은 시각에 도착한 크루 중 대기열에서 제일 뒤에 선다. 또한, 모든 크루는 잠을 자야 하므로 23:59에 집에 돌아간다. 따라서 어떤 크루도 다음날 셔틀을 타는 일은 없다.\n",
    "## 입력 형식\n",
    "\n",
    "셔틀 운행 횟수 n, 셔틀 운행 간격 t, 한 셔틀에 탈 수 있는 최대 크루 수 m, 크루가 대기열에 도착하는 시각을 모은 배열 timetable이 입력으로 주어진다.\n",
    "0 ＜ n ≦ 10\n",
    "0 ＜ t ≦ 60\n",
    "0 ＜ m ≦ 45\n",
    "timetable은 최소 길이 1이고 최대 길이 2000인 배열로, 하루 동안 크루가 대기열에 도착하는 시각이 HH:MM 형식으로 이루어져 있다.\n",
    "크루의 도착 시각 HH:MM은 00:01에서 23:59 사이이다.\n",
    "## 출력 형식\n",
    "\n",
    "콘이 무사히 셔틀을 타고 사무실로 갈 수 있는 제일 늦은 도착 시각을 출력한다. 도착 시각은 HH:MM 형식이며, 00:00에서 23:59 사이의 값이 될 수 있다.\n"
   ]
  },
  {
   "cell_type": "code",
   "execution_count": 26,
   "metadata": {
    "collapsed": true
   },
   "outputs": [],
   "source": [
    "from datetime import time\n",
    "import datetime\n",
    "from time import strftime"
   ]
  },
  {
   "cell_type": "code",
   "execution_count": 2,
   "metadata": {
    "collapsed": true
   },
   "outputs": [],
   "source": [
    "test_case_n = [1,2,2,1,1,10]\n",
    "test_case_t = [1,10,1,1,1,60]\n",
    "test_case_m = [5,2,2,5,1,45]\n",
    "test_case_time_table = [\"[“08:00”, “08:01”, “08:02”, “08:03”]\",\n",
    "                       \"[“09:10”, “09:09”, “08:00”]\",\n",
    "                       \"[“09:00”, “09:00”, “09:00”, “09:00”]\",\n",
    "                       \"[“00:01”, “00:01”, “00:01”, “00:01”, “00:01”]\",\n",
    "                       \"[“23:59”]\",\n",
    "                       \"[“23:59”,”23:59”, “23:59”, “23:59”, “23:59”, “23:59”, “23:59”, “23:59”, “23:59”, “23:59”, “23:59”, “23:59”, “23:59”, “23:59”, “23:59”, “23:59”]\"]\n",
    "test_oracle = [\"09:00\",\"09:09\",\"08:59\",\"00:00\",\"09:00\",\"18:00\"]"
   ]
  },
  {
   "cell_type": "code",
   "execution_count": 3,
   "metadata": {
    "collapsed": true
   },
   "outputs": [],
   "source": [
    "def assert_answer():\n",
    "    result_mat = []\n",
    "    for i in range(6):\n",
    "        if(test_oracle[i] == standInLine(test_case_n[i],\\\n",
    "                                         test_case_t[i],\\\n",
    "                                         test_case_m[i],\\\n",
    "                                         test_case_time_table[i])):\n",
    "            result_mat.append(True)\n",
    "        else:\n",
    "            result_mat.append(False)\n",
    "    return result_mat"
   ]
  },
  {
   "cell_type": "code",
   "execution_count": 127,
   "metadata": {},
   "outputs": [],
   "source": [
    "def standInLine (n, t, m, timeTable):\n",
    "    timeTableInput = timeTable.replace('[','').replace(']','')\\\n",
    "                    .replace('”','').replace('“','')\\\n",
    "                    .replace(' ','').split(',')\n",
    "    timeTableInput = [datetime.datetime.strptime(x,'%H:%M') for x in timeTableInput]\n",
    "    waitingLine = sorted(timeTableInput) #soring waitingList\n",
    "    #print(timeTableInput)\n",
    "    shuttleBusList = []\n",
    "    laters = []\n",
    "    toRemove = []\n",
    "    idx = 0\n",
    "    for i in range(n):    #create shuttle bus\n",
    "        print(i)\n",
    "        shuttleBusList.append([datetime.datetime(1900,1,1,9,0)+\\\n",
    "                               datetime.timedelta(minutes = i*t),[]])\n",
    "        for idx, timestamp in enumerate(waitingLine):\n",
    "            if (shuttleBusList[i][0] >= timestamp and len(shuttleBusList[i][1])< m):\n",
    "                shuttleBusList[i][1].append(timestamp) #add to line\n",
    "                toRemove.append(idx)\n",
    "            if(i == n-1):\n",
    "                laters.append(timestamp) #add to line\n",
    "        waitingLine = [i for j, i in enumerate(waitingLine) if j not in toRemove]\n",
    "        toRemove=[]\n",
    "    print(shuttleBusList)\n",
    "    last_bus = shuttleBusList.pop()\n",
    "    if(len(last_bus[1]) < m):\n",
    "        resultTime = last_bus[0].strftime(\"%H:%M\")\n",
    "    else:\n",
    "        resultTime = (last_bus[1].pop() - datetime.timedelta(minutes=1)).strftime(\"%H:%M\")\n",
    "    print(resultTime)\n",
    "    return resultTime"
   ]
  },
  {
   "cell_type": "code",
   "execution_count": 128,
   "metadata": {},
   "outputs": [
    {
     "name": "stdout",
     "output_type": "stream",
     "text": [
      "0\n",
      "[[datetime.datetime(1900, 1, 1, 9, 0), [datetime.datetime(1900, 1, 1, 8, 0), datetime.datetime(1900, 1, 1, 8, 1), datetime.datetime(1900, 1, 1, 8, 2), datetime.datetime(1900, 1, 1, 8, 3)]]]\n",
      "09:00\n",
      "0\n",
      "1\n",
      "[[datetime.datetime(1900, 1, 1, 9, 0), [datetime.datetime(1900, 1, 1, 8, 0)]], [datetime.datetime(1900, 1, 1, 9, 10), [datetime.datetime(1900, 1, 1, 9, 9), datetime.datetime(1900, 1, 1, 9, 10)]]]\n",
      "09:09\n",
      "0\n",
      "1\n",
      "[[datetime.datetime(1900, 1, 1, 9, 0), [datetime.datetime(1900, 1, 1, 9, 0), datetime.datetime(1900, 1, 1, 9, 0)]], [datetime.datetime(1900, 1, 1, 9, 1), [datetime.datetime(1900, 1, 1, 9, 0), datetime.datetime(1900, 1, 1, 9, 0)]]]\n",
      "08:59\n",
      "0\n",
      "[[datetime.datetime(1900, 1, 1, 9, 0), [datetime.datetime(1900, 1, 1, 0, 1), datetime.datetime(1900, 1, 1, 0, 1), datetime.datetime(1900, 1, 1, 0, 1), datetime.datetime(1900, 1, 1, 0, 1), datetime.datetime(1900, 1, 1, 0, 1)]]]\n",
      "00:00\n",
      "0\n",
      "[[datetime.datetime(1900, 1, 1, 9, 0), []]]\n",
      "09:00\n",
      "0\n",
      "1\n",
      "2\n",
      "3\n",
      "4\n",
      "5\n",
      "6\n",
      "7\n",
      "8\n",
      "9\n",
      "[[datetime.datetime(1900, 1, 1, 9, 0), []], [datetime.datetime(1900, 1, 1, 10, 0), []], [datetime.datetime(1900, 1, 1, 11, 0), []], [datetime.datetime(1900, 1, 1, 12, 0), []], [datetime.datetime(1900, 1, 1, 13, 0), []], [datetime.datetime(1900, 1, 1, 14, 0), []], [datetime.datetime(1900, 1, 1, 15, 0), []], [datetime.datetime(1900, 1, 1, 16, 0), []], [datetime.datetime(1900, 1, 1, 17, 0), []], [datetime.datetime(1900, 1, 1, 18, 0), []]]\n",
      "18:00\n"
     ]
    }
   ],
   "source": [
    "assert_answer();"
   ]
  },
  {
   "cell_type": "code",
   "execution_count": null,
   "metadata": {
    "collapsed": true
   },
   "outputs": [],
   "source": []
  }
 ],
 "metadata": {
  "kernelspec": {
   "display_name": "Python 3",
   "language": "python",
   "name": "python3"
  },
  "language_info": {
   "codemirror_mode": {
    "name": "ipython",
    "version": 3
   },
   "file_extension": ".py",
   "mimetype": "text/x-python",
   "name": "python",
   "nbconvert_exporter": "python",
   "pygments_lexer": "ipython3",
   "version": "3.5.2"
  }
 },
 "nbformat": 4,
 "nbformat_minor": 2
}
