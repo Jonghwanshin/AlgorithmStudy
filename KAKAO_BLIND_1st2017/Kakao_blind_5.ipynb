{
 "cells": [
  {
   "cell_type": "markdown",
   "metadata": {
    "collapsed": true
   },
   "source": [
    "# 5. 뉴스 클러스터링(난이도: 중)\n",
    "\n",
    "자카드 유사도\n",
    "J(A,B) 두 집합의 교집합 크기를 합집합 크기로 나눔\n",
    "\n",
    "다중 집합에 대해서도 확장 가능함.\n",
    "A = 1을 3개, B는 1을 5개 가지고 있음.\n",
    "교집합은 1을 세개, 합집합의 경우 5개 가지게 됨\n",
    "A={1,1,2,2,3} B={1,2,2,4,5}\n",
    "A and B = {1,2,2} A or B = {1,1,2,2,3,4,5}\n",
    "J(A,B)=3/7\n",
    "\n",
    "문자열간의 유사도\n",
    "FRANCE와 FRENCH가 주어졌을 경우\n",
    "두 글자씩 끊어서 다중집함\n",
    "A = {FR, RA, AN, NC, CE}\n",
    "B = {FR, RE, EN, NC, CH}\n",
    "\n",
    "A and B = {FR, NC}\n",
    "A or B = {FR, RA, AN, NC, CE, RE, EN, CH}\n",
    "\n",
    "\n",
    "## 입력 형식\n",
    "- str1, str2(2~1000자)\n",
    "- 두 글자씩 끊어서 다중집합의 원소로 만듬.\n",
    "- 영문자만 유효, 기타 공백이나 숫자, 특수문자는 버림,\n",
    "입력으로 들어온 문자열은 두 글자씩 끊어서 다중집합의 원소로 만든다. 이때 영문자로 된 글자 쌍만 유효하고, 기타 공백이나 숫자, 특수 문자가 들어있는 경우는 그 글자 쌍을 버린다. 예를 들어 “ab+”가 입력으로 들어오면, “ab”만 다중집합의 원소로 삼고, “b+”는 버린다.\n",
    "- just replace with nothing\n",
    "다중집합 원소 사이를 비교할 때, 대문자와 소문자의 차이는 무시한다. “AB”와 “Ab”, “ab”는 같은 원소로 취급한다.\n",
    "- all covert to upper case\n",
    "\n",
    "## 출력 형식\n",
    "\n",
    "입력으로 들어온 두 문자열의 자카드 유사도를 출력한다. \n",
    "유사도 값은 0에서 1 사이의 실수이므로, 이를 다루기 쉽도록 65536을 곱한 후에 소수점 아래를 버리고 정수부만 출력한다.\n",
    "    int(similarity*65536)"
   ]
  },
  {
   "cell_type": "markdown",
   "metadata": {},
   "source": [
    "data preprocessing\n",
    "- convert to upper case\n",
    "    string = string.upper()\n",
    "- replace special characters to nothing\n",
    "    re.sub(pattern, repl, string)\n",
    "    re.sub([^A-Z], '',string)\n",
    "\n",
    "making substrings\n",
    "- odd\n",
    "    abc => ab bc\n",
    "    abcde => ab bc cd de\n",
    "    for idx in range(len(word)-1):\n",
    "        string.append(str(word[idx])+str(word[idx+1])\n",
    "- even\n",
    "    1 2, 2 3, ..., n-1 ,n\n",
    "\n",
    "get common and sum\n",
    "- \n",
    "\n",
    "output\n",
    "- int(similarity*65536)"
   ]
  },
  {
   "cell_type": "code",
   "execution_count": 36,
   "metadata": {},
   "outputs": [],
   "source": [
    "import re\n",
    "from collections import Counter"
   ]
  },
  {
   "cell_type": "code",
   "execution_count": 2,
   "metadata": {
    "collapsed": true
   },
   "outputs": [],
   "source": [
    "test_case_str1 = ['FRANCE','handshake','aa1+aa2','E=M*C^2']\n",
    "test_case_str2 = ['french','shake hands','AAAA12','e=m*c^2']\n",
    "test_oracle = [16384,65536,43690,65536]"
   ]
  },
  {
   "cell_type": "code",
   "execution_count": 94,
   "metadata": {},
   "outputs": [],
   "source": [
    "def preProcess(string):\n",
    "    stringSet = []\n",
    "    string = string.upper()\n",
    "    #string = re.sub('[^A-Z]','',string)\n",
    "    for idx in range(len(string)-1):\n",
    "        newString = str(string[idx])+str(string[idx+1])\n",
    "        if re.match('[A-Z][A-Z]',newString):\n",
    "            stringSet.append(newString)\n",
    "    return stringSet\n",
    "\n",
    "def getSimilarity(str1, str2):\n",
    "    strSet1 = []\n",
    "    strSet2 = []\n",
    "    commonSet = []\n",
    "    sumSet = []\n",
    "    strSet1 = preProcess(str1)\n",
    "    strSet2 = preProcess(str2)\n",
    "    dict1 = dict(Counter(strSet1))\n",
    "    dict2 = dict(Counter(strSet2))\n",
    "    if len(dict1) >= len(dict2):\n",
    "        dict_long = dict1 #longer sequence\n",
    "        dict_short = dict2 #\n",
    "    else:\n",
    "        dict_long = dict2\n",
    "        dict_short = dict1\n",
    "    print((dict_long))\n",
    "    print(dict_short)\n",
    "    for word in dict_short.items():\n",
    "        #find word from dict_long\n",
    "        long_num = dict_long.get(word[0])\n",
    "        if long_num: #if found\n",
    "            if(long_num >= word[1]):\n",
    "                # minimum is word[1]\n",
    "                [commonSet.append(word[0]) for x in range(word[1])] \n",
    "                [sumSet.append(word[0]) for x in range(long_num)]\n",
    "            else:\n",
    "                # minimum is long_num\n",
    "                [commonSet.append(word[0]) for x in range(long_num)]  # add to common\n",
    "                [sumSet.append(word[0]) for x in range(word[1])]         # add to sum\n",
    "        else:\n",
    "            [sumSet.append(word[0]) for x in range(word[1])]\n",
    "    for word in dict_long.items():\n",
    "        if not (word[0] in sumSet):\n",
    "            [sumSet.append(word[0]) for x in range(word[1])]\n",
    "    print(commonSet)\n",
    "    print(sumSet)\n",
    "    if len(commonSet) == len(sumSet) == 0:\n",
    "        similarity = 65536\n",
    "    else:\n",
    "        similarity = int(len(commonSet)/len(sumSet)*65536)\n",
    "    print(similarity)"
   ]
  },
  {
   "cell_type": "code",
   "execution_count": null,
   "metadata": {
    "collapsed": true
   },
   "outputs": [],
   "source": [
    "print(list(set(strSet1).intersection(strSet2)))"
   ]
  },
  {
   "cell_type": "code",
   "execution_count": null,
   "metadata": {
    "collapsed": true
   },
   "outputs": [],
   "source": []
  },
  {
   "cell_type": "code",
   "execution_count": 33,
   "metadata": {
    "collapsed": true
   },
   "outputs": [],
   "source": [
    "def assert_answer():\n",
    "    result_mat = []\n",
    "    for i in range(len(test_case_str1)):\n",
    "        if(test_oracle[i] == getSimilarity(test_case_str1[i],test_case_str2[i])):\n",
    "            result_mat.append(True)\n",
    "        else:\n",
    "            result_mat.append(False)\n",
    "    return result_mat"
   ]
  },
  {
   "cell_type": "code",
   "execution_count": 95,
   "metadata": {},
   "outputs": [
    {
     "name": "stdout",
     "output_type": "stream",
     "text": [
      "{'RA': 1, 'AN': 1, 'FR': 1, 'NC': 1, 'CE': 1}\n",
      "{'RE': 1, 'NC': 1, 'FR': 1, 'EN': 1, 'CH': 1}\n",
      "['NC', 'FR']\n",
      "['RE', 'NC', 'FR', 'EN', 'CH', 'RA', 'AN', 'CE']\n",
      "16384\n",
      "{'ND': 1, 'KE': 1, 'AK': 1, 'HA': 2, 'AN': 1, 'DS': 1, 'SH': 1}\n",
      "{'ND': 1, 'AK': 1, 'KE': 1, 'HA': 2, 'AN': 1, 'DS': 1, 'SH': 1}\n",
      "['ND', 'AK', 'KE', 'HA', 'HA', 'AN', 'DS', 'SH']\n",
      "['ND', 'AK', 'KE', 'HA', 'HA', 'AN', 'DS', 'SH']\n",
      "65536\n",
      "{'AA': 2}\n",
      "{'AA': 3}\n",
      "['AA', 'AA']\n",
      "['AA', 'AA', 'AA']\n",
      "43690\n",
      "{}\n",
      "{}\n",
      "[]\n",
      "[]\n",
      "65536\n"
     ]
    }
   ],
   "source": [
    "assert_answer();"
   ]
  },
  {
   "cell_type": "code",
   "execution_count": null,
   "metadata": {
    "collapsed": true
   },
   "outputs": [],
   "source": []
  }
 ],
 "metadata": {
  "kernelspec": {
   "display_name": "Python 3",
   "language": "python",
   "name": "python3"
  },
  "language_info": {
   "codemirror_mode": {
    "name": "ipython",
    "version": 3
   },
   "file_extension": ".py",
   "mimetype": "text/x-python",
   "name": "python",
   "nbconvert_exporter": "python",
   "pygments_lexer": "ipython3",
   "version": "3.5.2"
  }
 },
 "nbformat": 4,
 "nbformat_minor": 2
}
