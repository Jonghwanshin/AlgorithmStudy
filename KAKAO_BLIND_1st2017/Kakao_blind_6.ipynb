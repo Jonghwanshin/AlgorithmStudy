{
 "cells": [
  {
   "cell_type": "markdown",
   "metadata": {
    "collapsed": true
   },
   "source": [
    "# 6. 프렌즈4블록(난이도: 상)\n",
    "\n",
    "블라인드 공채를 통과한 신입 사원 라이언은 신규 게임 개발 업무를 맡게 되었다. 이번에 출시할 게임 제목은 “프렌즈4블록”.\n",
    "같은 모양의 카카오프렌즈 블록이 2×2 형태로 4개가 붙어있을 경우 사라지면서 점수를 얻는 게임이다.\n",
    "만약 판이 위와 같이 주어질 경우, 라이언이 2×2로 배치된 7개 블록과 콘이 2×2로 배치된 4개 블록이 지워진다. 같은 블록은 여러 2×2에 포함될 수 있으며, 지워지는 조건에 만족하는 2×2 모양이 여러 개 있다면 한꺼번에 지워진다.\n",
    "블록이 지워진 후에 위에 있는 블록이 아래로 떨어져 빈 공간을 채우게 된다.\n",
    "만약 빈 공간을 채운 후에 다시 2×2 형태로 같은 모양의 블록이 모이면 다시 지워지고 떨어지고를 반복하게 된다.\n",
    "위 초기 배치를 문자로 표시하면 아래와 같다.\n",
    "각 문자는 라이언(R), 무지(M), 어피치(A), 프로도(F), 네오(N), 튜브(T), 제이지(J), 콘(C)을 의미한다\n",
    "입력으로 블록의 첫 배치가 주어졌을 때, 지워지는 블록은 모두 몇 개인지 판단하는 프로그램을 제작하라.\n",
    "\n",
    "## 입력 형식\n",
    "\n",
    "입력으로 판의 높이 m, 폭 n과 판의 배치 정보 board가 들어온다.\n",
    "2 ≦ n, m ≦ 30\n",
    "board는 길이 n인 문자열 m개의 배열로 주어진다. 블록을 나타내는 문자는 대문자 A에서 Z가 사용된다.\n",
    "## 출력 형식\n",
    "\n",
    "입력으로 주어진 판 정보를 가지고 몇 개의 블록이 지워질지 출력하라."
   ]
  },
  {
   "cell_type": "markdown",
   "metadata": {},
   "source": [
    "board = list(n)\n",
    "\n",
    "1.해당 배열을 수직으로 바꾼다.\n",
    "전체 맵에 대해서 탐색을 수행한다.\n",
    "    각 열에 대해서(x)\n",
    "        각 행에 대해서(y)\n",
    "            newBoard[i].append(board[y][x])\n",
    "\n",
    "2.toBeRemoved가 0이 아닌동안\n",
    "    2.1 toBeRemoved를 0으로 만든다\n",
    "    2.2 전체 맵에 대해서 탐색을 수행한다.\n",
    "        각 열에 대해서(y)\n",
    "            각 행에 대해서\n",
    "                'X'라면\n",
    "                    break\n",
    "                'X'가 아니라면\n",
    "                    newBoard(x,y),newBoard(x+1,y),(x,y+1),(x+1,y+1)이 같다면\n",
    "                        중복항목은 넣지 않는다.\n",
    "                        (x,y),(x+1,y),(x,y+1),(x+1,y+1)를 toBeRemoved에 넣는다.\n",
    "    2.3 블록을 정리한다.\n",
    "    toBeRemoved에 있는 것들에 대해(idx)\n",
    "            newBoard([idx[1]][idx[0]]) = 'X' X로 바꾼다.\n",
    "    각 행에 대해서(x)\n",
    "        각 열에 대해서(y)\n",
    "            'X'라면\n",
    "                newBoard[y].pop()\n",
    "                newBoard.append('X') #뒤에다 붙인다.\n",
    "\n",
    "return toBeRemoved\n",
    "            \n",
    "        \n",
    "                    \n",
    "       "
   ]
  },
  {
   "cell_type": "code",
   "execution_count": 36,
   "metadata": {
    "collapsed": true
   },
   "outputs": [],
   "source": [
    "import re\n",
    "from collections import Counter"
   ]
  },
  {
   "cell_type": "code",
   "execution_count": 10,
   "metadata": {
    "collapsed": true
   },
   "outputs": [],
   "source": [
    "test_case_m = [4,6]\n",
    "test_case_n = [5,6]\n",
    "test_case_board = [['CCBDE','AAADE','AAABF','CCBBF'],\n",
    "                  ['TTTANT','RRFACC','RRRFCC','TRRRAA','TTMMMF','TMMTTJ']]\n",
    "test_oracle = [14,15]"
   ]
  },
  {
   "cell_type": "code",
   "execution_count": 12,
   "metadata": {
    "collapsed": true
   },
   "outputs": [],
   "source": [
    "def assert_answer():\n",
    "    result_mat = []\n",
    "    for i in range(len(test_case_m)):\n",
    "        if(test_oracle[i] == friendsForBlock(test_case_m[i],test_case_n[i],test_case_board[i])):\n",
    "            result_mat.append(True)\n",
    "        else:\n",
    "            result_mat.append(False)\n",
    "    return result_mat"
   ]
  },
  {
   "cell_type": "code",
   "execution_count": 110,
   "metadata": {},
   "outputs": [],
   "source": [
    "def friendsForBlock(m,n,board):\n",
    "    #1.해당 배열을 수직으로 바꾼다.\n",
    "    #board : 행이 n개 열이 m개\n",
    "    #newBoard: 행이 m개, 열이 n개\n",
    "    newBoard = [['X' for x in range(m)] for y in range (n)]\n",
    "    toBeRemoved = set([0,0])\n",
    "    totalRemoved = 0\n",
    "    toBeRemovedRow = []\n",
    "    #print(board)\n",
    "    for x in range(n):\n",
    "        for y in range(m):\n",
    "            newBoard[x][m-1-y] = board[y][x]\n",
    "    print(newBoard)\n",
    "    #2.toBeRemoved가 0이 아닌동안\n",
    "    while(len(toBeRemoved)>0):\n",
    "        toBeRemoved = set() #2.1 toBeRemoved를 0으로 만든다\n",
    "        for y in range(n-1): #각 행에 대해서(y) #2.2 전체 맵에 대해서 탐색을 수행한다.\n",
    "            for x in range(m-1): #각 열에 대해서\n",
    "                if newBoard[y][x] == 'X': #'X'라면\n",
    "                    break\n",
    "                else:# 'X'가 아니라면\n",
    "                    if newBoard[y][x] == newBoard[y][x+1] \\\n",
    "                    == newBoard[y+1][x] == newBoard[y+1][x+1]:\n",
    "                        #(x,y),(x+1,y),(x,y+1),(x+1,y+1)를 toBeRemoved에 넣는다.\n",
    "                        toBeRemoved.add((x,y)) #중복항목은 넣지 않는다.\n",
    "                        toBeRemoved.add((x+1,y))\n",
    "                        toBeRemoved.add((x,y+1))\n",
    "                        toBeRemoved.add((x+1,y+1))\n",
    "        #print(toBeRemoved)\n",
    "        print(len(toBeRemoved))\n",
    "        totalRemoved = totalRemoved + len(toBeRemoved)\n",
    "        #2.3 블록을 정리한다.\n",
    "        for idx in toBeRemoved: #toBeRemoved에 있는 것들에 대해(idx)\n",
    "                newBoard[idx[1]][idx[0]] = 'X' # X로 바꾼다.\n",
    "        #print(newBoard)\n",
    "        for y in range(n): #각 행에 대해서(y)\n",
    "            for x in range(m): #각 열에 대해서(x)\n",
    "                #print('x :',x,'y: ',y)\n",
    "                #print(newBoard[y][x])\n",
    "                if newBoard[y][x] == 'X': #'X'라면\n",
    "                    toBeRemovedRow.append(x)\n",
    "                    newBoard[y].append('X') #뒤에다 붙인다.\n",
    "            newBoard[y] = [i for j, i in enumerate(newBoard[y]) if j not in toBeRemovedRow]\n",
    "            toBeRemovedRow = []\n",
    "        print(newBoard)\n",
    "    return totalRemoved"
   ]
  },
  {
   "cell_type": "code",
   "execution_count": 111,
   "metadata": {},
   "outputs": [
    {
     "name": "stdout",
     "output_type": "stream",
     "text": [
      "[['C', 'A', 'A', 'C'], ['C', 'A', 'A', 'C'], ['B', 'A', 'A', 'B'], ['B', 'B', 'D', 'D'], ['F', 'F', 'E', 'E']]\n",
      "6\n",
      "[['C', 'C', 'X', 'X'], ['C', 'C', 'X', 'X'], ['B', 'B', 'X', 'X'], ['B', 'B', 'D', 'D'], ['F', 'F', 'E', 'E']]\n",
      "8\n",
      "[['X', 'X', 'X', 'X'], ['X', 'X', 'X', 'X'], ['X', 'X', 'X', 'X'], ['D', 'D', 'X', 'X'], ['F', 'F', 'E', 'E']]\n",
      "0\n",
      "[['X', 'X', 'X', 'X'], ['X', 'X', 'X', 'X'], ['X', 'X', 'X', 'X'], ['D', 'D', 'X', 'X'], ['F', 'F', 'E', 'E']]\n",
      "[['T', 'T', 'T', 'R', 'R', 'T'], ['M', 'T', 'R', 'R', 'R', 'T'], ['M', 'M', 'R', 'R', 'F', 'T'], ['T', 'M', 'R', 'F', 'A', 'A'], ['T', 'M', 'A', 'C', 'C', 'N'], ['J', 'F', 'A', 'C', 'C', 'T']]\n",
      "11\n",
      "[['T', 'T', 'T', 'T', 'X', 'X'], ['M', 'T', 'T', 'X', 'X', 'X'], ['M', 'M', 'F', 'T', 'X', 'X'], ['T', 'M', 'R', 'F', 'A', 'A'], ['T', 'M', 'A', 'N', 'X', 'X'], ['J', 'F', 'A', 'T', 'X', 'X']]\n",
      "4\n",
      "[['T', 'T', 'X', 'X', 'X', 'X'], ['M', 'X', 'X', 'X', 'X', 'X'], ['M', 'M', 'F', 'T', 'X', 'X'], ['T', 'M', 'R', 'F', 'A', 'A'], ['T', 'M', 'A', 'N', 'X', 'X'], ['J', 'F', 'A', 'T', 'X', 'X']]\n",
      "0\n",
      "[['T', 'T', 'X', 'X', 'X', 'X'], ['M', 'X', 'X', 'X', 'X', 'X'], ['M', 'M', 'F', 'T', 'X', 'X'], ['T', 'M', 'R', 'F', 'A', 'A'], ['T', 'M', 'A', 'N', 'X', 'X'], ['J', 'F', 'A', 'T', 'X', 'X']]\n"
     ]
    },
    {
     "data": {
      "text/plain": [
       "[True, True]"
      ]
     },
     "execution_count": 111,
     "metadata": {},
     "output_type": "execute_result"
    }
   ],
   "source": [
    "assert_answer()"
   ]
  },
  {
   "cell_type": "code",
   "execution_count": null,
   "metadata": {
    "collapsed": true
   },
   "outputs": [],
   "source": []
  }
 ],
 "metadata": {
  "kernelspec": {
   "display_name": "Python 3",
   "language": "python",
   "name": "python3"
  },
  "language_info": {
   "codemirror_mode": {
    "name": "ipython",
    "version": 3
   },
   "file_extension": ".py",
   "mimetype": "text/x-python",
   "name": "python",
   "nbconvert_exporter": "python",
   "pygments_lexer": "ipython3",
   "version": "3.5.2"
  }
 },
 "nbformat": 4,
 "nbformat_minor": 2
}
