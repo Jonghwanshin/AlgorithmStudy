{
 "cells": [
  {
   "cell_type": "markdown",
   "metadata": {
    "collapsed": true
   },
   "source": [
    "# 추석 트래픽(난이도: 상)\n",
    "\n",
    "이번 추석에도 시스템 장애가 없는 명절을 보내고 싶은 어피치는 서버를 증설해야 할지 고민이다. 장애 대비용 서버 증설 여부를 결정하기 위해 작년 추석 기간인 9월 15일 로그 데이터를 분석한 후 초당 최대 처리량을 계산해보기로 했다. 초당 최대 처리량은 요청의 응답 완료 여부에 관계없이 임의 시간부터 1초(=1,000밀리초)간 처리하는 요청의 최대 개수를 의미한다.\n",
    "\n",
    "초당 최대 처리량 계산\n",
    "\n",
    "## 입력 형식\n",
    "\n",
    "로그 문자열 : [S T]의 배열 (S:응답 완료시간, T: 처리시간]\n",
    "갯수 : 1<=N<=2000\n",
    "S,T는 공백으로 구분\n",
    "\n",
    "응답완료시간 S는 작년 추석인 2016년 9월 15일만 포함하여 고정 길이 2016-09-15 hh:mm:ss.sss 형식\n",
    "처리시간 T는 0.1s, 0.312s, 2s 와 같이 최대 소수점 셋째 자리까지 기록하며 뒤에는 초 단위를 의미하는 s로 끝\n",
    "예를 들어, 로그 문자열 2016-09-15 03:10:33.020 0.011s은 “2016년 9월 15일 오전 3시 10분 33.010초”부터 “2016년 9월 15일 오전 3시 10분 33.020초”까지 “0.011초” 동안 처리된 요청을 의미 (처리시간은 시작시간과 끝시간을 포함)\n",
    "\n",
    "서버에는 타임아웃이 3초로 적용되어 있기 때문에 처리시간은 0.001 ≦ T ≦ 3.000이다.\n",
    "\n",
    "lines 배열은 응답완료시간 S를 기준으로 오름차순 정렬되어 있다.\n",
    "\n",
    "출력 형식\n",
    "\n",
    "solution 함수에서는 로그 데이터 lines 배열에 대해 초당 최대 처리량을 리턴한다.\n",
    "\n",
    "## 입출력 예제\n",
    "\n",
    "### 예제 1\n",
    "\n",
    "입력: [ “2016-09-15 01:00:04.001 2.0s”, “2016-09-15 01:00:07.000 2s” ]\n",
    "출력: 1\n",
    "\n",
    "### 예제 2\n",
    "\n",
    "입력: [ “2016-09-15 01:00:04.002 2.0s”, “2016-09-15 01:00:07.000 2s” ]\n",
    "출력: 2\n",
    "\n",
    "설명: 처리시간은 시작시간과 끝시간을 포함하므로 첫 번째 로그는 01:00:02.003 ~ 01:00:04.002에서 2초 동안 처리되었으며, 두 번째 로그는 01:00:05.001 ~ 01:00:07.000에서 2초 동안 처리된다. 따라서, 첫 번째 로그가 끝나는 시점과 두 번째 로그가 시작하는 시점의 구간인 01:00:04.002 ~ 01:00:05.001 1초 동안 최대 2개가 된다.\n",
    "\n",
    "### 예제 3\n",
    "\n",
    "입력: [ “2016-09-15 20:59:57.421 0.351s”, “2016-09-15 20:59:58.233 1.181s”, “2016-09-15 20:59:58.299 0.8s”, “2016-09-15 20:59:58.688 1.041s”, “2016-09-15 20:59:59.591 1.412s”, “2016-09-15 21:00:00.464 1.466s”, “2016-09-15 21:00:00.741 1.581s”, “2016-09-15 21:00:00.748 2.31s”, “2016-09-15 21:00:00.966 0.381s”, “2016-09-15 21:00:02.066 2.62s” ]\n",
    "출력: 7\n",
    "\n",
    "설명: 아래 타임라인 그림에서 빨간색으로 표시된 1초 각 구간의 처리량을 구해보면 (1)은 4개, (2)는 7개, (3)는 2개임을 알 수 있다. 따라서 초당 최대 처리량은 7이 되며, 동일한 최대 처리량을 갖는 1초 구간은 여러 개 존재할 수 있으므로 이 문제에서는 구간이 아닌 개수만 출력한다."
   ]
  },
  {
   "cell_type": "markdown",
   "metadata": {},
   "source": [
    "전체 Time range에 대해서 number of maxmium overlapping instance를 구하는 것임\n",
    "(timingInstances)\n",
    "최소 시간 단위인 0.001초 단위로 짤라서 maximum overlap을 구해야함.(timePointer라는 애를 이용해서 0.001씩(1ms)씩 Timedelta를 더할 것임)\n",
    "단, 각 로그가 얼마나 지속될지 모르기 때문에 시작시간과 끝 시간을 잘 체크해야 함.(내부 변수 startTime, endTime 선언)\n",
    "\n",
    "입력에 대해서(idx)\n",
    "    timing instance.append([time-datetime.timedelta(seconds = seconds), time])를 생성한다.(시작시간과, 끝시간)\n",
    "    if idx가 0이라면(시작이라면)\n",
    "        startTime = 현재 instance의 시작시간\n",
    "    elif #idx가 마지막이라면(len(input))\n",
    "        endTime = 현재 instance의 끝시간\n",
    "    else #다른 경우\n",
    "        현재의 시작시간이 startTime보다 작다면\n",
    "            startTime - 현재 instance의 시작시간\n",
    "        현재의 끝시간이 endTime보다 크다면\n",
    "            endTime - 현재 instance의 끝시간\n",
    "\n",
    "timepointer = startTime\n",
    "maxOverlap = 0\n",
    "\n",
    "while(timepointer < endTime):\n",
    "    currentOverlap = 0\n",
    "    for time in timeInstances:\n",
    "        if(time[0] <= timepointer and timepointer <= time[1]):\n",
    "            currentOverlap = currentOverlap + 1\n",
    "    if(maxOverlap < currentOverlap):\n",
    "        maxOverlap = currentOverlap\n",
    "    timepointer = timepointer = datetime.timedelta(milliseconds = 1)\n",
    "return maxOverlap"
   ]
  },
  {
   "cell_type": "markdown",
   "metadata": {},
   "source": [
    "timedelta가 double형에도 작동하나 확인(OK)"
   ]
  },
  {
   "cell_type": "code",
   "execution_count": 4,
   "metadata": {},
   "outputs": [
    {
     "name": "stdout",
     "output_type": "stream",
     "text": [
      "2017-10-20 02:15:23.102683\n"
     ]
    }
   ],
   "source": [
    "import datetime\n",
    "print(datetime.datetime.now() + datetime.timedelta(seconds = 1.1))"
   ]
  },
  {
   "cell_type": "code",
   "execution_count": 36,
   "metadata": {
    "collapsed": true
   },
   "outputs": [],
   "source": [
    "import datetime"
   ]
  },
  {
   "cell_type": "code",
   "execution_count": 5,
   "metadata": {
    "collapsed": true
   },
   "outputs": [],
   "source": [
    "test_case_traffic = [['2016-09-15 01:00:04.001 2.0s','2016-09-15 01:00:07.000 2s'],\n",
    "                     ['2016-09-15 01:00:04.002 2.0s','2016-09-15 01:00:07.000 2s'],\n",
    "                     [ '2016-09-15 20:59:57.421 0.351s', '2016-09-15 20:59:58.233 1.181s', '2016-09-15 20:59:58.299 0.8s',\\\n",
    "                       '2016-09-15 20:59:58.688 1.041s', '2016-09-15 20:59:59.591 1.412s', '2016-09-15 21:00:00.464 1.466s',\\\n",
    "                      '2016-09-15 21:00:00.741 1.581s', '2016-09-15 21:00:00.748 2.31s', '2016-09-15 21:00:00.966 0.381s',\\\n",
    "                      '2016-09-15 21:00:02.066 2.62s']]\n",
    "test_oracle=[1,2,7]"
   ]
  },
  {
   "cell_type": "code",
   "execution_count": 11,
   "metadata": {},
   "outputs": [],
   "source": [
    "def assert_answer():\n",
    "    result_mat = []\n",
    "    for i in range(len(test_case_traffic)):\n",
    "        if(test_oracle[i] == chuseokTraffic(test_case_traffic[i])):\n",
    "            result_mat.append(True)\n",
    "        else:\n",
    "            result_mat.append(False)\n",
    "    return result_mat"
   ]
  },
  {
   "cell_type": "code",
   "execution_count": 74,
   "metadata": {},
   "outputs": [],
   "source": [
    "def chuseokTraffic(traffics):\n",
    "    trafficInstances = []\n",
    "    startTime = datetime.datetime(1900,1,1,23,59,59,999)\n",
    "    endTime = datetime.datetime(1900,1,1)\n",
    "    for idx,traffic in enumerate(traffics):\n",
    "        inst = traffic.split(' ')\n",
    "        timeInst = inst[1].split('.')\n",
    "        endtime = datetime.datetime.strptime(timeInst[0],'%H:%M:%S')+\\\n",
    "                datetime.timedelta(milliseconds=int(timeInst[1]))\n",
    "        starttime = endtime - datetime.timedelta(seconds=(float((inst[2].split('s'))[0])-float(0.001)))\n",
    "        if idx == 0 and starttime < startTime:\n",
    "            startTime = starttime\n",
    "        elif idx == len(traffics)-1 and endtime > endTime :\n",
    "            endTime = endtime\n",
    "        else:\n",
    "            if(startTime > starttime):\n",
    "                startTime = starttime\n",
    "            if(endTime < endtime):\n",
    "                endTime = endtime\n",
    "        trafficInstances.append([starttime, endtime])\n",
    "    print(trafficInstances)\n",
    "    print(startTime, endTime)\n",
    "    timepointer = startTime\n",
    "    maxOverlap = 0\n",
    "\n",
    "    while(timepointer < endTime):\n",
    "        currentOverlap = 0\n",
    "        for time in trafficInstances:\n",
    "            if(time[0] <= timepointer and timepointer < time[1]) or\\\n",
    "            (time[0]<= timepointer+datetime.timedelta(seconds=1) and timepointer+datetime.timedelta(seconds=1) < time[1]):\n",
    "                currentOverlap = currentOverlap + 1\n",
    "        if(maxOverlap < currentOverlap):\n",
    "            maxOverlap = currentOverlap\n",
    "        timepointer = timepointer + datetime.timedelta(milliseconds = 1)\n",
    "    print(maxOverlap)\n",
    "    return maxOverlap\n",
    "    "
   ]
  },
  {
   "cell_type": "code",
   "execution_count": 75,
   "metadata": {},
   "outputs": [
    {
     "name": "stdout",
     "output_type": "stream",
     "text": [
      "[[datetime.datetime(1900, 1, 1, 1, 0, 2, 2000), datetime.datetime(1900, 1, 1, 1, 0, 4, 1000)], [datetime.datetime(1900, 1, 1, 1, 0, 5, 1000), datetime.datetime(1900, 1, 1, 1, 0, 7)]]\n",
      "1900-01-01 01:00:02.002000 1900-01-01 01:00:07\n",
      "1\n",
      "[[datetime.datetime(1900, 1, 1, 1, 0, 2, 3000), datetime.datetime(1900, 1, 1, 1, 0, 4, 2000)], [datetime.datetime(1900, 1, 1, 1, 0, 5, 1000), datetime.datetime(1900, 1, 1, 1, 0, 7)]]\n",
      "1900-01-01 01:00:02.003000 1900-01-01 01:00:07\n",
      "2\n",
      "[[datetime.datetime(1900, 1, 1, 20, 59, 57, 71000), datetime.datetime(1900, 1, 1, 20, 59, 57, 421000)], [datetime.datetime(1900, 1, 1, 20, 59, 57, 53000), datetime.datetime(1900, 1, 1, 20, 59, 58, 233000)], [datetime.datetime(1900, 1, 1, 20, 59, 57, 500000), datetime.datetime(1900, 1, 1, 20, 59, 58, 299000)], [datetime.datetime(1900, 1, 1, 20, 59, 57, 648000), datetime.datetime(1900, 1, 1, 20, 59, 58, 688000)], [datetime.datetime(1900, 1, 1, 20, 59, 58, 180000), datetime.datetime(1900, 1, 1, 20, 59, 59, 591000)], [datetime.datetime(1900, 1, 1, 20, 59, 58, 999000), datetime.datetime(1900, 1, 1, 21, 0, 0, 464000)], [datetime.datetime(1900, 1, 1, 20, 59, 59, 161000), datetime.datetime(1900, 1, 1, 21, 0, 0, 741000)], [datetime.datetime(1900, 1, 1, 20, 59, 58, 439000), datetime.datetime(1900, 1, 1, 21, 0, 0, 748000)], [datetime.datetime(1900, 1, 1, 21, 0, 0, 586000), datetime.datetime(1900, 1, 1, 21, 0, 0, 966000)], [datetime.datetime(1900, 1, 1, 20, 59, 59, 447000), datetime.datetime(1900, 1, 1, 21, 0, 2, 66000)]]\n",
      "1900-01-01 20:59:57.053000 1900-01-01 21:00:02.066000\n",
      "7\n"
     ]
    },
    {
     "data": {
      "text/plain": [
       "[True, True, True]"
      ]
     },
     "execution_count": 75,
     "metadata": {},
     "output_type": "execute_result"
    }
   ],
   "source": [
    "assert_answer()"
   ]
  },
  {
   "cell_type": "code",
   "execution_count": null,
   "metadata": {
    "collapsed": true
   },
   "outputs": [],
   "source": []
  }
 ],
 "metadata": {
  "kernelspec": {
   "display_name": "Python 3",
   "language": "python",
   "name": "python3"
  },
  "language_info": {
   "codemirror_mode": {
    "name": "ipython",
    "version": 3
   },
   "file_extension": ".py",
   "mimetype": "text/x-python",
   "name": "python",
   "nbconvert_exporter": "python",
   "pygments_lexer": "ipython3",
   "version": "3.5.2"
  }
 },
 "nbformat": 4,
 "nbformat_minor": 2
}
